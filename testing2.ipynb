{
 "cells": [
  {
   "cell_type": "code",
   "execution_count": null,
   "id": "5fa94ba0",
   "metadata": {},
   "outputs": [],
   "source": [
    "%load_ext autoreload\n",
    "%autoreload 2\n",
    "\n",
    "import numpy as np\n",
    "from ase.build import bulk\n",
    "\n",
    "# Build a bulk structure of MgO with rocksalt crystal structure\n",
    "# Then, replace some of the Mg atoms with Fe atoms at a specified ratio.\n",
    "conv_cell = bulk(\"MgO\", crystalstructure=\"rocksalt\", a=4.2, cubic=True)\n",
    "rng = np.random.default_rng(123)\n",
    "replace_element = \"Mg\"\n",
    "new_elements=(\"Mg\", \"Fe\")\n",
    "supercell_size = 4\n",
    "supercell_diag = (supercell_size, supercell_size, supercell_size)\n",
    "T_low = 100\n",
    "T_high = 1000\n",
    "ratio = 0.5\n",
    "snapshot_counts = 500\n",
    "debug_mode = False"
   ]
  },
  {
   "cell_type": "code",
   "execution_count": null,
   "id": "b0b43708",
   "metadata": {},
   "outputs": [],
   "source": [
    "from monty.serialization import loadfn\n",
    "import tc.dataset\n",
    "import tc.testing\n",
    "from mace.calculators import mace_mp\n",
    "import tc.wang_landau\n",
    "from pymatgen.io.ase import AseAtomsAdaptor\n",
    "\n",
    "# Only create the ensembles if they do not already exist\n",
    "try:\n",
    "    ensemble, endpoint_energies = loadfn(f\"{''.join(new_elements)}O_ensemble4_{round(1000*ratio)}.json.gz\")\n",
    "    print(\"Ensemble already exist, skipping creation.\")\n",
    "except FileNotFoundError:\n",
    "    print(f\"Creating random snapshot ensemble with {snapshot_counts} snapshots...\")\n",
    "    calc = mace_mp(model=\"large\", device=\"cuda\", default_dtype=\"float32\")\n",
    "    endpoint_energies = tc.dataset.calculate_endpoint_energies(conv_cell, calc, replace_element, new_elements)\n",
    "    snapshots = tc.dataset.make_snapshots(conv_cell, supercell_diag, rng, replace_element, new_elements, snapshot_counts, ratio=ratio)\n",
    "    ensemble = tc.dataset.create_canonical_ensemble(conv_cell, calc, replace_element, new_elements, supercell_size, ratio, endpoint_energies, supercell_diag, snapshots, reuse_site_map=True)\n",
    "    if debug_mode:\n",
    "        stats = tc.testing.evaluate_ensemble_vs_mace(ensemble=ensemble, calc=calc, conv_cell=conv_cell, rng=rng, endpoint_energies=endpoint_energies, replace_element=replace_element, new_elements=new_elements, comps=(ratio,))\n",
    "\n",
    "    # Use Wang-Landau to sample configurations uniformly across the range of energies\n",
    "    random_samples = tc.testing.sample_configs_fast(ensemble, rng, n_samples=10_000, ratio=ratio)\n",
    "    sampler, mu, min_E, max_E, bin_size = tc.wang_landau.run_wang_landau(ensemble, random_samples, rng, thin_target=snapshot_counts, ratio=ratio, n_samples_per_site=5_000, num_bins=200, window_width_factor=(50,50), progress=True)\n",
    "    if debug_mode:\n",
    "        tc.testing.compare_sampler_and_mace(sampler, ensemble, calc, endpoint_eVpc=tuple(endpoint_energies), cation_elements=new_elements)\n",
    "    \n",
    "    # Retrain the ensemble with the Wang-Landau configurations\n",
    "    wl_occupancies = sampler.samples.get_trace_value(\"occupancy\")\n",
    "    snapshots = [AseAtomsAdaptor.get_atoms(ensemble.processor.structure_from_occupancy(occ)) for occ in wl_occupancies]\n",
    "    ensemble = tc.dataset.create_canonical_ensemble(conv_cell, calc, replace_element, new_elements, supercell_size, ratio, endpoint_energies, supercell_diag, snapshots, reuse_site_map=True)\n",
    "    if debug_mode:\n",
    "        stats = tc.testing.evaluate_ensemble_vs_mace(ensemble=ensemble, calc=calc, conv_cell=conv_cell, rng=rng, endpoint_energies=endpoint_energies, replace_element=replace_element, new_elements=new_elements, comps=(ratio,))\n",
    "        sampler, mu, min_E, max_E, bin_size = tc.wang_landau.run_wang_landau(ensemble, random_samples, rng, thin_target=snapshot_counts, ratio=ratio, n_samples_per_site=5_000, num_bins=200, window_width_factor=(50,50), progress=True)\n",
    "        tc.testing.compare_sampler_and_mace(sampler, ensemble, calc, endpoint_eVpc=tuple(endpoint_energies), cation_elements=new_elements)"
   ]
  },
  {
   "cell_type": "code",
   "execution_count": null,
   "id": "5f42e1fd",
   "metadata": {},
   "outputs": [],
   "source": [
    "import tc.wang_landau\n",
    "import tc.testing\n",
    "\n",
    "samples = tc.testing.sample_configs_fast(ensemble, rng, n_samples=10_000, ratio=ratio)\n",
    "sampler, mu, min_E, max_E, bin_size = tc.wang_landau.run_wang_landau(ensemble=ensemble, samples=samples, rng=rng, \n",
    "                                                                     ratio=ratio, n_samples_per_site=500_000, num_bins=200,\n",
    "                                                                     window_width_factor=(50,50), progress=True)\n",
    "temperatures_K = np.linspace(T_low, T_high, 10_000)\n",
    "Cv = tc.wang_landau.compute_thermodynamics(sampler, temperatures_K)\n",
    "tc.wang_landau.generate_wl_plots( mu, min_E, max_E, bin_size, sampler, temperatures_K, Cv)"
   ]
  }
 ],
 "metadata": {
  "kernelspec": {
   "display_name": "tc312",
   "language": "python",
   "name": "python3"
  },
  "language_info": {
   "codemirror_mode": {
    "name": "ipython",
    "version": 3
   },
   "file_extension": ".py",
   "mimetype": "text/x-python",
   "name": "python",
   "nbconvert_exporter": "python",
   "pygments_lexer": "ipython3",
   "version": "3.12.11"
  }
 },
 "nbformat": 4,
 "nbformat_minor": 5
}
