{
 "cells": [
  {
   "cell_type": "code",
   "execution_count": null,
   "id": "5fa94ba0",
   "metadata": {},
   "outputs": [],
   "source": [
    "%load_ext autoreload\n",
    "%autoreload 2\n",
    "\n",
    "import numpy as np\n",
    "from ase.build import bulk\n",
    "\n",
    "# Build a bulk structure of MgO with rocksalt crystal structure\n",
    "# Then, replace some of the Mg atoms with Fe atoms at a specified ratio.\n",
    "conv_cell = bulk(\"MgO\", crystalstructure=\"rocksalt\", a=4.2, cubic=True)\n",
    "rng = np.random.default_rng(123)\n",
    "replace_element = \"Mg\"\n",
    "new_elements=(\"Mg\", \"Fe\")\n",
    "supercell_size = 4\n",
    "supercell_diag = (supercell_size, supercell_size, supercell_size)\n",
    "T_low = 100\n",
    "T_high = 1000\n",
    "ratio = 0.5\n",
    "snapshot_counts = 500\n",
    "debug_mode = False"
   ]
  },
  {
   "cell_type": "code",
   "execution_count": null,
   "id": "b0b43708",
   "metadata": {},
   "outputs": [
    {
     "name": "stderr",
     "output_type": "stream",
     "text": [
      "/home/colin/miniforge/envs/tc312/lib/python3.12/site-packages/e3nn/o3/_wigner.py:10: UserWarning: Environment variable TORCH_FORCE_NO_WEIGHTS_ONLY_LOAD detected, since the`weights_only` argument was not explicitly passed to `torch.load`, forcing weights_only=False.\n",
      "  _Jd, _W3j_flat, _W3j_indices = torch.load(os.path.join(os.path.dirname(__file__), 'constants.pt'))\n"
     ]
    },
    {
     "name": "stdout",
     "output_type": "stream",
     "text": [
      "Creating random snapshot ensemble with 500 snapshots...\n",
      "Using Materials Project MACE for MACECalculator with /home/colin/.cache/mace/MACE_MPtrj_20229model\n",
      "Using float32 for MACECalculator, which is faster but less accurate. Recommended for MD. Use float64 for geometry optimization.\n"
     ]
    },
    {
     "name": "stderr",
     "output_type": "stream",
     "text": [
      "/home/colin/miniforge/envs/tc312/lib/python3.12/site-packages/mace/calculators/mace.py:143: UserWarning: Environment variable TORCH_FORCE_NO_WEIGHTS_ONLY_LOAD detected, since the`weights_only` argument was not explicitly passed to `torch.load`, forcing weights_only=False.\n",
      "  torch.load(f=model_path, map_location=device)\n"
     ]
    },
    {
     "name": "stdout",
     "output_type": "stream",
     "text": [
      "Using head Default out of ['Default']\n",
      "Default dtype float32 does not match model dtype float64, converting models to float32.\n"
     ]
    },
    {
     "data": {
      "application/vnd.jupyter.widget-view+json": {
       "model_id": "71e8d812925e4e11837d49244dea0b1c",
       "version_major": 2,
       "version_minor": 0
      },
      "text/plain": [
       "MACE energies:   0%|          | 0/500 [00:00<?, ?it/s]"
      ]
     },
     "metadata": {},
     "output_type": "display_data"
    },
    {
     "name": "stdout",
     "output_type": "stream",
     "text": [
      "Primitive cell: MgFeO2 with 4 cations\n",
      "Number of orbits: 92\n"
     ]
    },
    {
     "data": {
      "application/vnd.jupyter.widget-view+json": {
       "model_id": "c87df50f5d8f42f18566165716ae092e",
       "version_major": 2,
       "version_minor": 0
      },
      "text/plain": [
       "Adding:   0%|          | 0/500 [00:00<?, ?it/s]"
      ]
     },
     "metadata": {},
     "output_type": "display_data"
    },
    {
     "name": "stdout",
     "output_type": "stream",
     "text": [
      "Matched structures: 500/500\n",
      "rank = 91 of 92 columns\n",
      "RMSE     0.14 meV   MAX     0.39 meV\n",
      "5-fold CV RMSE: 0.1724877956206083 meV\n"
     ]
    },
    {
     "data": {
      "application/vnd.jupyter.widget-view+json": {
       "model_id": "b3cea67c66de45859952313a0152edf9",
       "version_major": 2,
       "version_minor": 0
      },
      "text/plain": [
       "  0%|          | 0/10000 [00:00<?, ?it/s]"
      ]
     },
     "metadata": {},
     "output_type": "display_data"
    },
    {
     "name": "stdout",
     "output_type": "stream",
     "text": [
      "ratio: 0.5 CE energies: mean = -9782.82 meV, std =   486.56 meV, min = -11699.16 meV, max = -7653.69 meV\n",
      "Energy window : [-34.111, 14.545] eV (200 bins, 0.2433 eV each)\n"
     ]
    },
    {
     "name": "stderr",
     "output_type": "stream",
     "text": [
      "Sampling 1 chain(s) from a cell with 512 sites: 100%|██████████| 2560000/2560000 [03:50<00:00, 11105.22it/s]\n"
     ]
    },
    {
     "data": {
      "application/vnd.jupyter.widget-view+json": {
       "model_id": "879c96519a4a4805b075de39c6dcd875",
       "version_major": 2,
       "version_minor": 0
      },
      "text/plain": [
       "MACE energies:   0%|          | 0/500 [00:00<?, ?it/s]"
      ]
     },
     "metadata": {},
     "output_type": "display_data"
    },
    {
     "name": "stdout",
     "output_type": "stream",
     "text": [
      "Primitive cell: MgFeO2 with 4 cations\n",
      "Number of orbits: 92\n"
     ]
    },
    {
     "data": {
      "application/vnd.jupyter.widget-view+json": {
       "model_id": "4429666bd5784fca8a2a0278639646d0",
       "version_major": 2,
       "version_minor": 0
      },
      "text/plain": [
       "Adding:   0%|          | 0/500 [00:00<?, ?it/s]"
      ]
     },
     "metadata": {},
     "output_type": "display_data"
    },
    {
     "name": "stdout",
     "output_type": "stream",
     "text": [
      "Matched structures: 500/500\n",
      "rank = 91 of 92 columns\n",
      "RMSE     0.14 meV   MAX     0.51 meV\n",
      "5-fold CV RMSE: 0.18630101738547025 meV\n"
     ]
    }
   ],
   "source": [
    "from monty.serialization import loadfn\n",
    "import tc.dataset\n",
    "import tc.testing\n",
    "from mace.calculators import mace_mp\n",
    "import tc.wang_landau\n",
    "from pymatgen.io.ase import AseAtomsAdaptor\n",
    "\n",
    "# Only create the ensembles if they do not already exist\n",
    "try:\n",
    "    ensemble, endpoint_energies = loadfn(f\"{''.join(new_elements)}O_ensemble4_{round(1000*ratio)}.json.gz\")\n",
    "    print(\"Ensemble already exist, skipping creation.\")\n",
    "except FileNotFoundError:\n",
    "    print(f\"Creating random snapshot ensemble with {snapshot_counts} snapshots...\")\n",
    "    calc = mace_mp(model=\"large\", device=\"cuda\", default_dtype=\"float32\")\n",
    "    endpoint_energies = tc.dataset.calculate_endpoint_energies(conv_cell, calc, replace_element, new_elements)\n",
    "    snapshots = tc.dataset.make_snapshots(conv_cell, supercell_diag, rng, replace_element, new_elements, snapshot_counts, ratio=ratio)\n",
    "    ensemble = tc.dataset.create_canonical_ensemble(conv_cell, calc, replace_element, new_elements, supercell_size, ratio, endpoint_energies, supercell_diag, snapshots, reuse_site_map=True)\n",
    "    if debug_mode:\n",
    "        stats = tc.testing.evaluate_ensemble_vs_mace(ensemble=ensemble, calc=calc, conv_cell=conv_cell, rng=rng, endpoint_energies=endpoint_energies, replace_element=replace_element, new_elements=new_elements, comps=(ratio,))\n",
    "\n",
    "    # Use Wang-Landau to sample configurations uniformly across the range of energies\n",
    "    random_samples = tc.testing.sample_configs_fast(ensemble, rng, n_samples=10_000, ratio=ratio)\n",
    "    sampler, mu, min_E, max_E, bin_size = tc.wang_landau.run_wang_landau(ensemble, random_samples, rng, thin_target=snapshot_counts, ratio=ratio, n_samples_per_site=5_000, num_bins=200, window=(50,50), progress=True)\n",
    "    if debug_mode:\n",
    "        tc.testing.compare_sampler_and_mace(sampler, ensemble, calc, endpoint_eVpc=tuple(endpoint_energies), cation_elements=new_elements)\n",
    "    \n",
    "    # Retrain the ensemble with the Wang-Landau configurations\n",
    "    wl_occupancies = sampler.samples.get_trace_value(\"occupancy\")\n",
    "    snapshots = [AseAtomsAdaptor.get_atoms(ensemble.processor.structure_from_occupancy(occ)) for occ in wl_occupancies]\n",
    "    ensemble = tc.dataset.create_canonical_ensemble(conv_cell, calc, replace_element, new_elements, supercell_size, ratio, endpoint_energies, supercell_diag, snapshots, reuse_site_map=True)\n",
    "    if debug_mode:\n",
    "        stats = tc.testing.evaluate_ensemble_vs_mace(ensemble=ensemble, calc=calc, conv_cell=conv_cell, rng=rng, endpoint_energies=endpoint_energies, replace_element=replace_element, new_elements=new_elements, comps=(ratio,))\n",
    "        sampler, mu, min_E, max_E, bin_size = tc.wang_landau.run_wang_landau(ensemble, random_samples, rng, thin_target=snapshot_counts, ratio=ratio, n_samples_per_site=5_000, num_bins=200, window=(50,50), progress=True)\n",
    "        tc.testing.compare_sampler_and_mace(sampler, ensemble, calc, endpoint_eVpc=tuple(endpoint_energies), cation_elements=new_elements)"
   ]
  },
  {
   "cell_type": "code",
   "execution_count": null,
   "id": "5f42e1fd",
   "metadata": {},
   "outputs": [],
   "source": [
    "import tc.wang_landau\n",
    "import tc.testing\n",
    "\n",
    "samples = tc.testing.sample_configs_fast(ensemble, rng, n_samples=10_000, ratio=ratio)\n",
    "sampler, mu, min_E, max_E, bin_size = tc.wang_landau.run_wang_landau(ensemble=ensemble, samples=samples, rng=rng, \n",
    "                                                                     ratio=ratio, n_samples_per_site=500_000, num_bins=200,\n",
    "                                                                     window=(50,50), progress=True)\n",
    "temperatures_K = np.linspace(T_low, T_high, 10_000)\n",
    "Cv = tc.wang_landau.compute_thermodynamics(sampler, temperatures_K)\n",
    "tc.wang_landau.generate_wl_plots( mu, min_E, max_E, bin_size, sampler, temperatures_K, Cv)"
   ]
  }
 ],
 "metadata": {
  "kernelspec": {
   "display_name": "tc312",
   "language": "python",
   "name": "python3"
  },
  "language_info": {
   "codemirror_mode": {
    "name": "ipython",
    "version": 3
   },
   "file_extension": ".py",
   "mimetype": "text/x-python",
   "name": "python",
   "nbconvert_exporter": "python",
   "pygments_lexer": "ipython3",
   "version": "3.12.11"
  }
 },
 "nbformat": 4,
 "nbformat_minor": 5
}
