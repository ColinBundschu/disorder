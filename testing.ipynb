{
 "cells": [
  {
   "cell_type": "code",
   "execution_count": 1,
   "id": "8148e974",
   "metadata": {},
   "outputs": [],
   "source": [
    "%load_ext autoreload\n",
    "%autoreload 2"
   ]
  },
  {
   "cell_type": "code",
   "execution_count": 2,
   "id": "8ede8a91",
   "metadata": {},
   "outputs": [
    {
     "name": "stderr",
     "output_type": "stream",
     "text": [
      "/home/colin/miniforge/envs/tc312/lib/python3.12/site-packages/e3nn/o3/_wigner.py:10: UserWarning: Environment variable TORCH_FORCE_NO_WEIGHTS_ONLY_LOAD detected, since the`weights_only` argument was not explicitly passed to `torch.load`, forcing weights_only=False.\n",
      "  _Jd, _W3j_flat, _W3j_indices = torch.load(os.path.join(os.path.dirname(__file__), 'constants.pt'))\n"
     ]
    },
    {
     "name": "stdout",
     "output_type": "stream",
     "text": [
      "Using Materials Project MACE for MACECalculator with /home/colin/.cache/mace/MACE_MPtrj_20229model\n",
      "Using float64 for MACECalculator, which is slower but more accurate. Recommended for geometry optimization.\n"
     ]
    },
    {
     "name": "stderr",
     "output_type": "stream",
     "text": [
      "/home/colin/miniforge/envs/tc312/lib/python3.12/site-packages/mace/calculators/mace.py:143: UserWarning: Environment variable TORCH_FORCE_NO_WEIGHTS_ONLY_LOAD detected, since the`weights_only` argument was not explicitly passed to `torch.load`, forcing weights_only=False.\n",
      "  torch.load(f=model_path, map_location=device)\n"
     ]
    },
    {
     "name": "stdout",
     "output_type": "stream",
     "text": [
      "Using head Default out of ['Default']\n",
      "Total snapshots: 60\n"
     ]
    },
    {
     "data": {
      "application/vnd.jupyter.widget-view+json": {
       "model_id": "0b97ce59beb8401a85005f01f6a23b16",
       "version_major": 2,
       "version_minor": 0
      },
      "text/plain": [
       "MACE energies:   0%|          | 0/60 [00:00<?, ?it/s]"
      ]
     },
     "metadata": {},
     "output_type": "display_data"
    },
    {
     "data": {
      "application/vnd.jupyter.widget-view+json": {
       "model_id": "9601db7750d844aaa35474ad8471d97e",
       "version_major": 2,
       "version_minor": 0
      },
      "text/plain": [
       "Adding:   0%|          | 0/60 [00:00<?, ?it/s]"
      ]
     },
     "metadata": {},
     "output_type": "display_data"
    },
    {
     "name": "stdout",
     "output_type": "stream",
     "text": [
      "Matched structures: 60/60\n",
      "RMSE     5.01 meV   MAX    10.98 meV\n",
      "5-fold CV RMSE: 8.48083683738291 meV\n"
     ]
    }
   ],
   "source": [
    "import tc.dataset\n",
    "import numpy as np\n",
    "from ase.build import bulk\n",
    "from mace.calculators import mace_mp\n",
    "from monty.serialization import dumpfn\n",
    "\n",
    "Mg_conv_cell = bulk(\"MgO\", crystalstructure=\"rocksalt\", a=4.2, cubic=True)\n",
    "rng = np.random.default_rng(42)\n",
    "calc = mace_mp(model=\"large\", device=\"cuda\", default_dtype=\"float64\")\n",
    "ensemble = tc.dataset.make_ce_ensemble_from_mace(\n",
    "    conv_cell=Mg_conv_cell,\n",
    "    rng=rng,\n",
    "    calc=calc,\n",
    "    replace_element=\"Mg\",\n",
    "    new_elements=(\"Li\", \"Mn\"),\n",
    ")\n",
    "\n",
    "dumpfn(ensemble, \"LiMnO_ensemble.json.gz\", indent=2)"
   ]
  },
  {
   "cell_type": "code",
   "execution_count": 1,
   "id": "7f31a2aa",
   "metadata": {},
   "outputs": [
    {
     "ename": "NameError",
     "evalue": "name 'ensemble' is not defined",
     "output_type": "error",
     "traceback": [
      "\u001b[31m---------------------------------------------------------------------------\u001b[39m",
      "\u001b[31mNameError\u001b[39m                                 Traceback (most recent call last)",
      "\u001b[36mCell\u001b[39m\u001b[36m \u001b[39m\u001b[32mIn[1]\u001b[39m\u001b[32m, line 2\u001b[39m\n\u001b[32m      1\u001b[39m \u001b[38;5;28;01mfrom\u001b[39;00m\u001b[38;5;250m \u001b[39m\u001b[34;01mmonty\u001b[39;00m\u001b[34;01m.\u001b[39;00m\u001b[34;01mserialization\u001b[39;00m\u001b[38;5;250m \u001b[39m\u001b[38;5;28;01mimport\u001b[39;00m dumpfn\n\u001b[32m----> \u001b[39m\u001b[32m2\u001b[39m dumpfn(\u001b[43mensemble\u001b[49m, \u001b[33m\"\u001b[39m\u001b[33mLiMnO_ensemble.json.gz\u001b[39m\u001b[33m\"\u001b[39m, indent=\u001b[32m2\u001b[39m)\n",
      "\u001b[31mNameError\u001b[39m: name 'ensemble' is not defined"
     ]
    }
   ],
   "source": [
    "from monty.serialization import dumpfn\n",
    "dumpfn(ensemble, \"LiMnO_ensemble.json.gz\", indent=2)"
   ]
  },
  {
   "cell_type": "code",
   "execution_count": null,
   "id": "5eadb7ac",
   "metadata": {},
   "outputs": [
    {
     "name": "stdout",
     "output_type": "stream",
     "text": [
      "Using Materials Project MACE for MACECalculator with /home/colin/.cache/mace/MACE_MPtrj_20229model\n",
      "Using float64 for MACECalculator, which is slower but more accurate. Recommended for geometry optimization.\n",
      "Using head Default out of ['Default']\n"
     ]
    },
    {
     "name": "stderr",
     "output_type": "stream",
     "text": [
      "/home/colin/miniforge/envs/tc312/lib/python3.12/site-packages/mace/calculators/mace.py:143: UserWarning: Environment variable TORCH_FORCE_NO_WEIGHTS_ONLY_LOAD detected, since the`weights_only` argument was not explicitly passed to `torch.load`, forcing weights_only=False.\n",
      "  torch.load(f=model_path, map_location=device)\n"
     ]
    },
    {
     "data": {
      "application/vnd.jupyter.widget-view+json": {
       "model_id": "34c4c954eab64389946badbcae745eea",
       "version_major": 2,
       "version_minor": 0
      },
      "text/plain": [
       "Evaluating CE vs MACE:   0%|          | 0/60 [00:00<?, ?it/s]"
      ]
     },
     "metadata": {},
     "output_type": "display_data"
    },
    {
     "ename": "",
     "evalue": "",
     "output_type": "error",
     "traceback": [
      "\u001b[1;31mThe Kernel crashed while executing code in the current cell or a previous cell. \n",
      "\u001b[1;31mPlease review the code in the cell(s) to identify a possible cause of the failure. \n",
      "\u001b[1;31mClick <a href='https://aka.ms/vscodeJupyterKernelCrash'>here</a> for more info. \n",
      "\u001b[1;31mView Jupyter <a href='command:jupyter.viewOutput'>log</a> for further details."
     ]
    }
   ],
   "source": [
    "import numpy as np\n",
    "import tc.testing\n",
    "from monty.serialization import loadfn\n",
    "from mace.calculators import mace_mp\n",
    "from ase.build import bulk\n",
    "\n",
    "ensemble_reloaded = loadfn(\"LiMnO_ensemble.json.gz\")\n",
    "\n",
    "\n",
    "Mg_conv_cell = bulk(\"MgO\", crystalstructure=\"rocksalt\", a=4.2, cubic=True)\n",
    "rng = np.random.default_rng(42)\n",
    "calc = mace_mp(model=\"large\", device=\"cuda\", default_dtype=\"float64\")\n",
    "stats = tc.testing.evaluate_ensemble_vs_mace(\n",
    "    ensemble        = ensemble_reloaded,\n",
    "    calc            = calc,\n",
    "    conv_cell       = Mg_conv_cell,\n",
    "    rng             = rng,\n",
    "    replace_element = \"Mg\",\n",
    "    new_elements    = (\"Li\", \"Mn\"),\n",
    ")"
   ]
  }
 ],
 "metadata": {
  "kernelspec": {
   "display_name": "tc312",
   "language": "python",
   "name": "python3"
  },
  "language_info": {
   "codemirror_mode": {
    "name": "ipython",
    "version": 3
   },
   "file_extension": ".py",
   "mimetype": "text/x-python",
   "name": "python",
   "nbconvert_exporter": "python",
   "pygments_lexer": "ipython3",
   "version": "3.12.11"
  }
 },
 "nbformat": 4,
 "nbformat_minor": 5
}
