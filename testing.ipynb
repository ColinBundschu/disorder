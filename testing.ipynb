{
 "cells": [
  {
   "cell_type": "code",
   "execution_count": 1,
   "id": "8148e974",
   "metadata": {},
   "outputs": [],
   "source": [
    "%load_ext autoreload\n",
    "%autoreload 2\n",
    "\n",
    "import numpy as np\n",
    "from ase.build import bulk\n",
    "\n",
    "# Build a bulk structure of MgO with rocksalt crystal structure\n",
    "# Then, replace some of the Mg atoms with Fe atoms at a specified ratio.\n",
    "Mg_conv_cell = bulk(\"MgO\", crystalstructure=\"rocksalt\", a=4.2, cubic=True)\n",
    "rng = np.random.default_rng(123)\n",
    "replace_element = \"Mg\"\n",
    "new_elements=(\"Mg\", \"Fe\")\n",
    "T_low = 100\n",
    "T_high = 1000\n",
    "ratio = 0.5"
   ]
  },
  {
   "cell_type": "code",
   "execution_count": null,
   "id": "8ede8a91",
   "metadata": {},
   "outputs": [
    {
     "name": "stderr",
     "output_type": "stream",
     "text": [
      "/home/colin/miniforge/envs/tc312/lib/python3.12/site-packages/e3nn/o3/_wigner.py:10: UserWarning: Environment variable TORCH_FORCE_NO_WEIGHTS_ONLY_LOAD detected, since the`weights_only` argument was not explicitly passed to `torch.load`, forcing weights_only=False.\n",
      "  _Jd, _W3j_flat, _W3j_indices = torch.load(os.path.join(os.path.dirname(__file__), 'constants.pt'))\n"
     ]
    },
    {
     "name": "stdout",
     "output_type": "stream",
     "text": [
      "Ensemble already exist, skipping creation.\n"
     ]
    }
   ],
   "source": [
    "from monty.serialization import loadfn\n",
    "import tc.dataset\n",
    "import tc.testing\n",
    "from mace.calculators import mace_mp\n",
    "\n",
    "# Only create the ensembles if they do not already exist\n",
    "try:\n",
    "    ensemble, endpoint_energies = loadfn(f\"{''.join(new_elements)}O_ensemble4_default.json.gz\")\n",
    "    print(\"Ensemble already exist, skipping creation.\")\n",
    "except FileNotFoundError:\n",
    "    print(\"Creating new ensembles...\")\n",
    "    calc = mace_mp(model=\"large\", device=\"cuda\", default_dtype=\"float32\")\n",
    "    ensemble, endpoint_energies = tc.dataset.make_ce_ensemble_from_mace(conv_cell=Mg_conv_cell, rng=rng, calc=calc, supercell_size=6,\n",
    "                                                       replace_element=replace_element, new_elements=new_elements, bin_counts=50, bins=20)\n",
    "    # This is likely to run out of VRAM, which is why we save the ensembles when we create them.\n",
    "    stats = tc.testing.evaluate_ensemble_vs_mace(ensemble=ensemble, calc=calc, conv_cell=Mg_conv_cell, rng=rng, endpoint_energies=endpoint_energies,\n",
    "                                                    replace_element=replace_element, new_elements=new_elements)\n"
   ]
  },
  {
   "cell_type": "code",
   "execution_count": null,
   "id": "3c6015c5",
   "metadata": {},
   "outputs": [
    {
     "name": "stdout",
     "output_type": "stream",
     "text": [
      "Using Materials Project MACE for MACECalculator with /home/colin/.cache/mace/MACE_MPtrj_20229model\n",
      "Using float64 for MACECalculator, which is slower but more accurate. Recommended for geometry optimization.\n"
     ]
    },
    {
     "name": "stderr",
     "output_type": "stream",
     "text": [
      "/home/colin/miniforge/envs/tc312/lib/python3.12/site-packages/mace/calculators/mace.py:143: UserWarning: Environment variable TORCH_FORCE_NO_WEIGHTS_ONLY_LOAD detected, since the`weights_only` argument was not explicitly passed to `torch.load`, forcing weights_only=False.\n",
      "  torch.load(f=model_path, map_location=device)\n"
     ]
    },
    {
     "name": "stdout",
     "output_type": "stream",
     "text": [
      "Using head Default out of ['Default']\n"
     ]
    },
    {
     "data": {
      "application/vnd.jupyter.widget-view+json": {
       "model_id": "a8565baecad845bfab3b7921c4fb4d6e",
       "version_major": 2,
       "version_minor": 0
      },
      "text/plain": [
       "CE vs MACE:   0%|          | 0/30 [00:00<?, ?it/s]"
      ]
     },
     "metadata": {},
     "output_type": "display_data"
    },
    {
     "name": "stdout",
     "output_type": "stream",
     "text": [
      " x_Li = 0.20 → CE = -6767.30 meV   MACE = -6688.88 meV\n",
      " x_Li = 0.90 → CE =  1495.63 meV   MACE =  1513.99 meV\n",
      " x_Li = 0.80 → CE =   498.45 meV   MACE =   600.00 meV\n",
      " x_Li = 0.10 → CE = -3251.27 meV   MACE = -3240.50 meV\n",
      " x_Li = 0.50 → CE = -10298.90 meV   MACE = -10428.80 meV\n",
      " x_Li = 0.50 → CE = -10083.98 meV   MACE = -10202.32 meV\n",
      " x_Li = 0.10 → CE = -3374.02 meV   MACE = -3407.00 meV\n",
      " x_Li = 0.50 → CE = -9470.51 meV   MACE = -9601.02 meV\n",
      " x_Li = 0.20 → CE = -7167.95 meV   MACE = -7084.15 meV\n",
      " x_Li = 0.50 → CE = -9676.37 meV   MACE = -9680.94 meV\n",
      " x_Li = 0.20 → CE = -5908.27 meV   MACE = -6012.06 meV\n",
      " x_Li = 0.90 → CE =  2397.96 meV   MACE =  2129.73 meV\n",
      " x_Li = 0.10 → CE = -3209.87 meV   MACE = -3285.33 meV\n",
      " x_Li = 0.80 → CE =  1182.45 meV   MACE =  1293.42 meV\n",
      " x_Li = 0.50 → CE = -8953.75 meV   MACE = -9014.13 meV\n",
      " x_Li = 0.10 → CE = -3215.55 meV   MACE = -3321.99 meV\n",
      " x_Li = 0.50 → CE = -9784.92 meV   MACE = -9863.94 meV\n",
      " x_Li = 0.20 → CE = -6982.82 meV   MACE = -6920.70 meV\n",
      " x_Li = 0.80 → CE =  1151.76 meV   MACE =  1208.09 meV\n",
      " x_Li = 0.10 → CE = -3296.48 meV   MACE = -3361.78 meV\n",
      " x_Li = 0.10 → CE = -2954.03 meV   MACE = -3042.79 meV\n",
      " x_Li = 0.50 → CE = -9813.89 meV   MACE = -9760.84 meV\n",
      " x_Li = 0.20 → CE = -6528.35 meV   MACE = -6547.17 meV\n",
      " x_Li = 0.10 → CE = -3440.24 meV   MACE = -3498.30 meV\n",
      " x_Li = 0.20 → CE = -6899.86 meV   MACE = -6845.51 meV\n",
      " x_Li = 0.90 → CE =  2082.05 meV   MACE =  1965.02 meV\n",
      " x_Li = 0.80 → CE =   581.12 meV   MACE =   593.68 meV\n",
      " x_Li = 0.50 → CE = -8192.97 meV   MACE = -8181.96 meV\n",
      " x_Li = 0.90 → CE =  1527.81 meV   MACE =  1449.82 meV\n",
      " x_Li = 0.80 → CE =    83.51 meV   MACE =    83.74 meV\n",
      "\n",
      "------------ CE  vs  MACE  ------------\n",
      " x_Li = 0.10 → RMSE =  69.43 meV   |err|_max = 106.44 meV\n",
      " x_Li = 0.20 → RMSE =  72.01 meV   |err|_max = 103.79 meV\n",
      " x_Li = 0.50 → RMSE =  87.15 meV   |err|_max = 130.51 meV\n",
      " x_Li = 0.80 → RMSE =  72.05 meV   |err|_max = 110.97 meV\n",
      " x_Li = 0.90 → RMSE = 151.71 meV   |err|_max = 268.24 meV\n",
      "----------------------------------------\n",
      " overall       RMSE =  90.12 meV   |err|_max = 268.24 meV\n"
     ]
    }
   ],
   "source": [
    "calc = mace_mp(model=\"large\", device=\"cuda\", default_dtype=\"float64\")\n",
    "stats = tc.testing.evaluate_ensemble_vs_mace(ensemble=ensemble, calc=calc, conv_cell=Mg_conv_cell, rng=rng, endpoint_energies=endpoint_energies,\n",
    "                                                     replace_element=replace_element, new_elements=new_elements, comps=(0.1, 0.2, 0.5, 0.8, 0.9))"
   ]
  },
  {
   "cell_type": "code",
   "execution_count": null,
   "id": "e18b7134",
   "metadata": {},
   "outputs": [
    {
     "data": {
      "application/vnd.jupyter.widget-view+json": {
       "model_id": "5d2b06cb88804e81b2777cbb7929b1a6",
       "version_major": 2,
       "version_minor": 0
      },
      "text/plain": [
       "  0%|          | 0/10000 [00:00<?, ?it/s]"
      ]
     },
     "metadata": {},
     "output_type": "display_data"
    },
    {
     "name": "stdout",
     "output_type": "stream",
     "text": [
      "ratio: 0.5 CE energies: mean = -9699.64 meV, std =   462.63 meV, min = -11602.78 meV, max = -7316.46 meV\n",
      "Energy window : [-28.205, 8.805] eV (200 bins, 0.1851 eV each)\n"
     ]
    },
    {
     "name": "stderr",
     "output_type": "stream",
     "text": [
      "Sampling 1 chain(s) from a cell with 512 sites: 100%|██████████| 102400000/102400000 [2:34:01<00:00, 11079.87it/s] \n"
     ]
    },
    {
     "name": "stdout",
     "output_type": "stream",
     "text": [
      "min(raw) = -22.46814731718806 eV\n",
      "max(raw) = 4.36422310012545 eV\n",
      "ΔE = 26.83237041731351 eV\n"
     ]
    },
    {
     "data": {
      "image/png": "[encoded data removed]",
      "text/plain": [
       "<Figure size 600x900 with 3 Axes>"
      ]
     },
     "metadata": {},
     "output_type": "display_data"
    }
   ],
   "source": [
    "\"\"\"\n",
    "Single threaded Wang-Landau sampling\n",
    "\"\"\"\n",
    "\n",
    "import tc.wang_landau\n",
    "import tc.testing\n",
    "\n",
    "samples = tc.testing.sample_configs_fast(ensemble, rng, n_samples=10_000, ratio=ratio)\n",
    "sampler, mu, min_E, max_E, bin_size = tc.wang_landau.run_wang_landau(ensemble=ensemble, samples=samples, rng=rng, \n",
    "                                                                     ratio=ratio, n_samples_per_site=200_000, num_bins=200,\n",
    "                                                                     window_width_factor=(50,50), progress=True)\n",
    "temperatures_K = np.linspace(T_low, T_high, 10_000)\n",
    "Cv = tc.wang_landau.compute_thermodynamics(sampler, temperatures_K)\n",
    "tc.wang_landau.generate_wl_plots( mu, min_E, max_E, bin_size, sampler, temperatures_K, Cv)"
   ]
  },
  {
   "cell_type": "code",
   "execution_count": null,
   "id": "95258029",
   "metadata": {},
   "outputs": [
    {
     "data": {
      "application/vnd.jupyter.widget-view+json": {
       "model_id": "813bd1820261476aad8470a709ea55ba",
       "version_major": 2,
       "version_minor": 0
      },
      "text/plain": [
       "Metropolis:   0%|          | 0/200 [00:00<?, ?T/s]"
      ]
     },
     "metadata": {},
     "output_type": "display_data"
    },
    {
     "data": {
      "image/png": "[encoded data removed]",
      "text/plain": [
       "<Figure size 500x400 with 1 Axes>"
      ]
     },
     "metadata": {},
     "output_type": "display_data"
    }
   ],
   "source": [
    "\"\"\"\n",
    "Parallel Metropolis heat-capacity sweep\n",
    "\"\"\"\n",
    "\n",
    "import os, numpy as np\n",
    "from concurrent.futures import ProcessPoolExecutor\n",
    "from tqdm.auto import tqdm\n",
    "import tc.metropolis\n",
    "\n",
    "# Temperatures to sample and an independent RNG seed for every worker (avoids accidental correlations).\n",
    "Ts = np.linspace(T_low, T_high, 200)\n",
    "seed_root = np.random.SeedSequence(42) # master seed\n",
    "child_seeds = seed_root.spawn(len(Ts))\n",
    "\n",
    "def _single_Cv(T, seed):\n",
    "    rng = np.random.default_rng(seed)\n",
    "    return tc.metropolis.run_metropolis_heat_capacity(\n",
    "        ensemble, # cheap shallow copy is enough (I hope)\n",
    "        T,\n",
    "        rng,\n",
    "        replace_element=replace_element,\n",
    "        new_elements=new_elements,\n",
    "        ratio=ratio,\n",
    "        n_steps_per_site=10_000,\n",
    "        thin_target=40_000,\n",
    "    )\n",
    "\n",
    "# Fan the temperature points out to all available cores.\n",
    "n_workers = os.cpu_count() // 2 # type: ignore # leave some cores free for the GUI and other tasks for my laptop\n",
    "print(f\"Using {n_workers} workers for parallel sampling.\")\n",
    "with ProcessPoolExecutor(max_workers=n_workers) as pool:\n",
    "    Cv = list(tqdm(pool.map(_single_Cv, Ts, child_seeds), total=len(Ts), desc=\"Metropolis\", unit=\"T\"))\n",
    "\n",
    "tc.metropolis.plot_cv_curve(Ts, np.array(Cv))\n"
   ]
  },
  {
   "cell_type": "code",
   "execution_count": null,
   "id": "fd6efe45",
   "metadata": {},
   "outputs": [
    {
     "data": {
      "application/vnd.jupyter.widget-view+json": {
       "model_id": "39c9b78ad0d64026bb0be5f0cc351bf7",
       "version_major": 2,
       "version_minor": 0
      },
      "text/plain": [
       "WL slices:   0%|          | 0/6 [00:00<?, ?it/s]"
      ]
     },
     "metadata": {},
     "output_type": "display_data"
    },
    {
     "name": "stdout",
     "output_type": "stream",
     "text": [
      "ratio: 0.95 CE energies: mean = -1561.36 meV, std =    76.52 meV, min = -1859.88 meV, max = -1318.58 meV\n",
      "Energy window : [-5.387, 2.265] eV (200 bins, 0.0383 eV each)\n",
      "ratio: 0.77 CE energies: mean = -7690.50 meV, std =   351.61 meV, min = -8883.97 meV, max = -6456.18 meV\n",
      "Energy window : [-25.271, 9.890] eV (200 bins, 0.1758 eV each)\n",
      "ratio: 0.22999999999999998 CE energies: mean =  -343.06 meV, std =   542.51 meV, min = -2580.35 meV, max =  1509.23 meV\n",
      "Energy window : [-27.469, 26.783] eV (200 bins, 0.2713 eV each)\n",
      "ratio: 0.05 CE energies: mean =  1434.14 meV, std =   292.91 meV, min =   107.27 meV, max =  2192.41 meV\n",
      "Energy window : [-13.211, 16.080] eV (200 bins, 0.1465 eV each)\n",
      "ratio: 0.41 CE energies: mean = -7257.89 meV, std =   425.46 meV, min = -9090.70 meV, max = -5603.73 meV\n",
      "Energy window : [-28.531, 14.015] eV (200 bins, 0.2127 eV each)\n",
      "ratio: 0.5900000000000001 CE energies: mean = -10632.76 meV, std =   496.44 meV, min = -12363.67 meV, max = -8757.55 meV\n",
      "Energy window : [-35.455, 14.189] eV (200 bins, 0.2482 eV each)\n",
      "min(raw) = -2.2272588748481983 eV\n",
      "max(raw) = -1.3485229185959202 eV\n",
      "ΔE = 0.8787359562522781 eV\n",
      "min(raw) = -12.549637552351228 eV\n",
      "max(raw) = -1.156830124013041 eV\n",
      "ΔE = 11.392807428338187 eV\n",
      "min(raw) = -2.0204682204664026 eV\n",
      "max(raw) = 2.2263152010717153 eV\n",
      "ΔE = 4.246783421538118 eV\n",
      "min(raw) = -19.17066825294927 eV\n",
      "max(raw) = 1.8894286210323976 eV\n",
      "ΔE = 21.060096873981667 eV\n",
      "min(raw) = -12.613012557990935 eV\n",
      "max(raw) = 9.71411048297837 eV\n",
      "ΔE = 22.327123040969305 eV\n",
      "min(raw) = -18.07937023265749 eV\n",
      "max(raw) = 5.9979983262756065 eV\n",
      "ΔE = 24.077368558933095 eV\n"
     ]
    }
   ],
   "source": [
    "\"\"\"\n",
    "Parallel Wang–Landau over composition grid\n",
    "------------------------------------------\n",
    "* Computes Cv(T) for each `ratio` in `ratios`\n",
    "* Uses all available CPU cores via ProcessPoolExecutor\n",
    "* Stores results in Cv_mat  (shape: len(ratios) × len(T))\n",
    "\"\"\"\n",
    "\n",
    "import os, numpy as np\n",
    "from concurrent.futures import ProcessPoolExecutor, as_completed\n",
    "from tqdm.auto import tqdm\n",
    "\n",
    "import tc.wang_landau as wl\n",
    "import tc.testing as tct\n",
    "\n",
    "# ── input parameters ────────────────────────────────────────────────\n",
    "ratios       = np.linspace(0.2, 0.8, 8)        # Mg fraction grid\n",
    "temperatures = np.linspace(100, 1500, 10000)        # K\n",
    "num_bins     = 200\n",
    "window_width = (50, 50)\n",
    "n_steps_per  = 200_000\n",
    "\n",
    "# ── helper to run one composition slice ─────────────────────────────\n",
    "def _cv_for_ratio(r):\n",
    "    rng_local = np.random.default_rng(int(r * 1e6) ^ 12345)\n",
    "    samples = tct.sample_configs_fast(ensemble, rng_local,\n",
    "                                      n_samples=10_000, ratio=r)\n",
    "    sampler, *_ = wl.run_wang_landau(\n",
    "        ensemble=ensemble,\n",
    "        samples=samples,\n",
    "        rng=rng_local,\n",
    "        ratio=r,\n",
    "        n_samples_per_site=n_steps_per,\n",
    "        num_bins=num_bins,\n",
    "        window_width_factor=window_width,\n",
    "        progress=False,  # disable progress bar in workers\n",
    "    )\n",
    "    Cv = wl.compute_thermodynamics(sampler, temperatures)\n",
    "    return r, Cv\n",
    "\n",
    "# ── launch workers ─────────────────────────────────────────────────\n",
    "n_workers = 4\n",
    "Cv_mat = np.empty((len(ratios), len(temperatures)))\n",
    "\n",
    "with ProcessPoolExecutor(max_workers=n_workers) as pool:\n",
    "    futures = {pool.submit(_cv_for_ratio, r): idx\n",
    "               for idx, r in enumerate(ratios)}\n",
    "    with tqdm(total=len(futures), desc=\"WL slices\") as pbar:\n",
    "        for fut in as_completed(futures):\n",
    "            idx = futures[fut]\n",
    "            ratio_ret, Cv_slice = fut.result()\n",
    "            Cv_mat[idx, :] = Cv_slice\n",
    "            pbar.update()\n",
    "\n"
   ]
  },
  {
   "cell_type": "code",
   "execution_count": null,
   "id": "8d156917",
   "metadata": {},
   "outputs": [
    {
     "data": {
      "application/vnd.plotly.v1+json": {
       "config": {
        "plotlyServerURL": "https://plot.ly"
       },
       "data": [
        {
         "marker": {
          "color": {
           "bdata": "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",
           "dtype": "f8"
          },
          "colorbar": {
           "title": {
            "text": "$C_v$"
           }
          },
          "colorscale": [
           [
            0,
            "rgb(68,1,84)"
           ],
           [
            0.00392156862745098,
            "rgb(68,2,85)"
           ],
           [
            0.00784313725490196,
            "rgb(68,3,87)"
           ],
           [
            0.011764705882352941,
            "rgb(69,5,88)"
           ],
           [
            0.01568627450980392,
            "rgb(69,6,90)"
           ],
           [
            0.0196078431372549,
            "rgb(69,8,91)"
           ],
           [
            0.023529411764705882,
            "rgb(70,9,92)"
           ],
           [
            0.027450980392156862,
            "rgb(70,11,94)"
           ],
           [
            0.03137254901960784,
            "rgb(70,12,95)"
           ],
           [
            0.03529411764705882,
            "rgb(70,14,97)"
           ],
           [
            0.0392156862745098,
            "rgb(71,15,98)"
           ],
           [
            0.043137254901960784,
            "rgb(71,17,99)"
           ],
           [
            0.047058823529411764,
            "rgb(71,18,101)"
           ],
           [
            0.050980392156862744,
            "rgb(71,20,102)"
           ],
           [
            0.054901960784313725,
            "rgb(71,21,103)"
           ],
           [
            0.058823529411764705,
            "rgb(71,22,105)"
           ],
           [
            0.06274509803921569,
            "rgb(71,24,106)"
           ],
           [
            0.06666666666666667,
            "rgb(72,25,107)"
           ],
           [
            0.07058823529411765,
            "rgb(72,26,108)"
           ],
           [
            0.07450980392156863,
            "rgb(72,28,110)"
           ],
           [
            0.0784313725490196,
            "rgb(72,29,111)"
           ],
           [
            0.08235294117647059,
            "rgb(72,30,112)"
           ],
           [
            0.08627450980392157,
            "rgb(72,32,113)"
           ],
           [
            0.09019607843137255,
            "rgb(72,33,114)"
           ],
           [
            0.09411764705882353,
            "rgb(72,34,115)"
           ],
           [
            0.09803921568627451,
            "rgb(72,35,116)"
           ],
           [
            0.10196078431372549,
            "rgb(71,37,117)"
           ],
           [
            0.10588235294117647,
            "rgb(71,38,118)"
           ],
           [
            0.10980392156862745,
            "rgb(71,39,119)"
           ],
           [
            0.11372549019607843,
            "rgb(71,40,120)"
           ],
           [
            0.11764705882352941,
            "rgb(71,42,121)"
           ],
           [
            0.12156862745098039,
            "rgb(71,43,122)"
           ],
           [
            0.12549019607843137,
            "rgb(71,44,123)"
           ],
           [
            0.12941176470588237,
            "rgb(70,45,124)"
           ],
           [
            0.13333333333333333,
            "rgb(70,47,124)"
           ],
           [
            0.13725490196078433,
            "rgb(70,48,125)"
           ],
           [
            0.1411764705882353,
            "rgb(70,49,126)"
           ],
           [
            0.1450980392156863,
            "rgb(69,50,127)"
           ],
           [
            0.14901960784313725,
            "rgb(69,52,127)"
           ],
           [
            0.15294117647058825,
            "rgb(69,53,128)"
           ],
           [
            0.1568627450980392,
            "rgb(69,54,129)"
           ],
           [
            0.1607843137254902,
            "rgb(68,55,129)"
           ],
           [
            0.16470588235294117,
            "rgb(68,57,130)"
           ],
           [
            0.16862745098039217,
            "rgb(67,58,131)"
           ],
           [
            0.17254901960784313,
            "rgb(67,59,131)"
           ],
           [
            0.17647058823529413,
            "rgb(67,60,132)"
           ],
           [
            0.1803921568627451,
            "rgb(66,61,132)"
           ],
           [
            0.1843137254901961,
            "rgb(66,62,133)"
           ],
           [
            0.18823529411764706,
            "rgb(66,64,133)"
           ],
           [
            0.19215686274509805,
            "rgb(65,65,134)"
           ],
           [
            0.19607843137254902,
            "rgb(65,66,134)"
           ],
           [
            0.2,
            "rgb(64,67,135)"
           ],
           [
            0.20392156862745098,
            "rgb(64,68,135)"
           ],
           [
            0.20784313725490197,
            "rgb(63,69,135)"
           ],
           [
            0.21176470588235294,
            "rgb(63,71,136)"
           ],
           [
            0.21568627450980393,
            "rgb(62,72,136)"
           ],
           [
            0.2196078431372549,
            "rgb(62,73,137)"
           ],
           [
            0.2235294117647059,
            "rgb(61,74,137)"
           ],
           [
            0.22745098039215686,
            "rgb(61,75,137)"
           ],
           [
            0.23137254901960785,
            "rgb(61,76,137)"
           ],
           [
            0.23529411764705882,
            "rgb(60,77,138)"
           ],
           [
            0.23921568627450981,
            "rgb(60,78,138)"
           ],
           [
            0.24313725490196078,
            "rgb(59,80,138)"
           ],
           [
            0.24705882352941178,
            "rgb(59,81,138)"
           ],
           [
            0.25098039215686274,
            "rgb(58,82,139)"
           ],
           [
            0.2549019607843137,
            "rgb(58,83,139)"
           ],
           [
            0.25882352941176473,
            "rgb(57,84,139)"
           ],
           [
            0.2627450980392157,
            "rgb(57,85,139)"
           ],
           [
            0.26666666666666666,
            "rgb(56,86,139)"
           ],
           [
            0.27058823529411763,
            "rgb(56,87,140)"
           ],
           [
            0.27450980392156865,
            "rgb(55,88,140)"
           ],
           [
            0.2784313725490196,
            "rgb(55,89,140)"
           ],
           [
            0.2823529411764706,
            "rgb(54,90,140)"
           ],
           [
            0.28627450980392155,
            "rgb(54,91,140)"
           ],
           [
            0.2901960784313726,
            "rgb(53,92,140)"
           ],
           [
            0.29411764705882354,
            "rgb(53,93,140)"
           ],
           [
            0.2980392156862745,
            "rgb(52,94,141)"
           ],
           [
            0.30196078431372547,
            "rgb(52,95,141)"
           ],
           [
            0.3058823529411765,
            "rgb(51,96,141)"
           ],
           [
            0.30980392156862746,
            "rgb(51,97,141)"
           ],
           [
            0.3137254901960784,
            "rgb(50,98,141)"
           ],
           [
            0.3176470588235294,
            "rgb(50,99,141)"
           ],
           [
            0.3215686274509804,
            "rgb(49,100,141)"
           ],
           [
            0.3254901960784314,
            "rgb(49,101,141)"
           ],
           [
            0.32941176470588235,
            "rgb(49,102,141)"
           ],
           [
            0.3333333333333333,
            "rgb(48,103,141)"
           ],
           [
            0.33725490196078434,
            "rgb(48,104,141)"
           ],
           [
            0.3411764705882353,
            "rgb(47,105,141)"
           ],
           [
            0.34509803921568627,
            "rgb(47,106,141)"
           ],
           [
            0.34901960784313724,
            "rgb(46,107,142)"
           ],
           [
            0.35294117647058826,
            "rgb(46,108,142)"
           ],
           [
            0.3568627450980392,
            "rgb(46,109,142)"
           ],
           [
            0.3607843137254902,
            "rgb(45,110,142)"
           ],
           [
            0.36470588235294116,
            "rgb(45,111,142)"
           ],
           [
            0.3686274509803922,
            "rgb(44,112,142)"
           ],
           [
            0.37254901960784315,
            "rgb(44,113,142)"
           ],
           [
            0.3764705882352941,
            "rgb(44,114,142)"
           ],
           [
            0.3803921568627451,
            "rgb(43,115,142)"
           ],
           [
            0.3843137254901961,
            "rgb(43,116,142)"
           ],
           [
            0.38823529411764707,
            "rgb(42,117,142)"
           ],
           [
            0.39215686274509803,
            "rgb(42,118,142)"
           ],
           [
            0.396078431372549,
            "rgb(42,119,142)"
           ],
           [
            0.4,
            "rgb(41,120,142)"
           ],
           [
            0.403921568627451,
            "rgb(41,121,142)"
           ],
           [
            0.40784313725490196,
            "rgb(40,122,142)"
           ],
           [
            0.4117647058823529,
            "rgb(40,122,142)"
           ],
           [
            0.41568627450980394,
            "rgb(40,123,142)"
           ],
           [
            0.4196078431372549,
            "rgb(39,124,142)"
           ],
           [
            0.4235294117647059,
            "rgb(39,125,142)"
           ],
           [
            0.42745098039215684,
            "rgb(39,126,142)"
           ],
           [
            0.43137254901960786,
            "rgb(38,127,142)"
           ],
           [
            0.43529411764705883,
            "rgb(38,128,142)"
           ],
           [
            0.4392156862745098,
            "rgb(38,129,142)"
           ],
           [
            0.44313725490196076,
            "rgb(37,130,142)"
           ],
           [
            0.4470588235294118,
            "rgb(37,131,141)"
           ],
           [
            0.45098039215686275,
            "rgb(36,132,141)"
           ],
           [
            0.4549019607843137,
            "rgb(36,133,141)"
           ],
           [
            0.4588235294117647,
            "rgb(36,134,141)"
           ],
           [
            0.4627450980392157,
            "rgb(35,135,141)"
           ],
           [
            0.4666666666666667,
            "rgb(35,136,141)"
           ],
           [
            0.47058823529411764,
            "rgb(35,137,141)"
           ],
           [
            0.4745098039215686,
            "rgb(34,137,141)"
           ],
           [
            0.47843137254901963,
            "rgb(34,138,141)"
           ],
           [
            0.4823529411764706,
            "rgb(34,139,141)"
           ],
           [
            0.48627450980392156,
            "rgb(33,140,141)"
           ],
           [
            0.49019607843137253,
            "rgb(33,141,140)"
           ],
           [
            0.49411764705882355,
            "rgb(33,142,140)"
           ],
           [
            0.4980392156862745,
            "rgb(32,143,140)"
           ],
           [
            0.5019607843137255,
            "rgb(32,144,140)"
           ],
           [
            0.5058823529411764,
            "rgb(32,145,140)"
           ],
           [
            0.5098039215686274,
            "rgb(31,146,140)"
           ],
           [
            0.5137254901960784,
            "rgb(31,147,139)"
           ],
           [
            0.5176470588235295,
            "rgb(31,148,139)"
           ],
           [
            0.5215686274509804,
            "rgb(31,149,139)"
           ],
           [
            0.5254901960784314,
            "rgb(31,150,139)"
           ],
           [
            0.5294117647058824,
            "rgb(30,151,138)"
           ],
           [
            0.5333333333333333,
            "rgb(30,152,138)"
           ],
           [
            0.5372549019607843,
            "rgb(30,153,138)"
           ],
           [
            0.5411764705882353,
            "rgb(30,153,138)"
           ],
           [
            0.5450980392156862,
            "rgb(30,154,137)"
           ],
           [
            0.5490196078431373,
            "rgb(30,155,137)"
           ],
           [
            0.5529411764705883,
            "rgb(30,156,137)"
           ],
           [
            0.5568627450980392,
            "rgb(30,157,136)"
           ],
           [
            0.5607843137254902,
            "rgb(30,158,136)"
           ],
           [
            0.5647058823529412,
            "rgb(30,159,136)"
           ],
           [
            0.5686274509803921,
            "rgb(30,160,135)"
           ],
           [
            0.5725490196078431,
            "rgb(31,161,135)"
           ],
           [
            0.5764705882352941,
            "rgb(31,162,134)"
           ],
           [
            0.5803921568627451,
            "rgb(31,163,134)"
           ],
           [
            0.5843137254901961,
            "rgb(32,164,133)"
           ],
           [
            0.5882352941176471,
            "rgb(32,165,133)"
           ],
           [
            0.592156862745098,
            "rgb(33,166,133)"
           ],
           [
            0.596078431372549,
            "rgb(33,167,132)"
           ],
           [
            0.6,
            "rgb(34,167,132)"
           ],
           [
            0.6039215686274509,
            "rgb(35,168,131)"
           ],
           [
            0.6078431372549019,
            "rgb(35,169,130)"
           ],
           [
            0.611764705882353,
            "rgb(36,170,130)"
           ],
           [
            0.615686274509804,
            "rgb(37,171,129)"
           ],
           [
            0.6196078431372549,
            "rgb(38,172,129)"
           ],
           [
            0.6235294117647059,
            "rgb(39,173,128)"
           ],
           [
            0.6274509803921569,
            "rgb(40,174,127)"
           ],
           [
            0.6313725490196078,
            "rgb(41,175,127)"
           ],
           [
            0.6352941176470588,
            "rgb(42,176,126)"
           ],
           [
            0.6392156862745098,
            "rgb(43,177,125)"
           ],
           [
            0.6431372549019608,
            "rgb(44,177,125)"
           ],
           [
            0.6470588235294118,
            "rgb(46,178,124)"
           ],
           [
            0.6509803921568628,
            "rgb(47,179,123)"
           ],
           [
            0.6549019607843137,
            "rgb(48,180,122)"
           ],
           [
            0.6588235294117647,
            "rgb(50,181,122)"
           ],
           [
            0.6627450980392157,
            "rgb(51,182,121)"
           ],
           [
            0.6666666666666666,
            "rgb(53,183,120)"
           ],
           [
            0.6705882352941176,
            "rgb(54,184,119)"
           ],
           [
            0.6745098039215687,
            "rgb(56,185,118)"
           ],
           [
            0.6784313725490196,
            "rgb(57,185,118)"
           ],
           [
            0.6823529411764706,
            "rgb(59,186,117)"
           ],
           [
            0.6862745098039216,
            "rgb(61,187,116)"
           ],
           [
            0.6901960784313725,
            "rgb(62,188,115)"
           ],
           [
            0.6941176470588235,
            "rgb(64,189,114)"
           ],
           [
            0.6980392156862745,
            "rgb(66,190,113)"
           ],
           [
            0.7019607843137254,
            "rgb(68,190,112)"
           ],
           [
            0.7058823529411765,
            "rgb(69,191,111)"
           ],
           [
            0.7098039215686275,
            "rgb(71,192,110)"
           ],
           [
            0.7137254901960784,
            "rgb(73,193,109)"
           ],
           [
            0.7176470588235294,
            "rgb(75,194,108)"
           ],
           [
            0.7215686274509804,
            "rgb(77,194,107)"
           ],
           [
            0.7254901960784313,
            "rgb(79,195,105)"
           ],
           [
            0.7294117647058823,
            "rgb(81,196,104)"
           ],
           [
            0.7333333333333333,
            "rgb(83,197,103)"
           ],
           [
            0.7372549019607844,
            "rgb(85,198,102)"
           ],
           [
            0.7411764705882353,
            "rgb(87,198,101)"
           ],
           [
            0.7450980392156863,
            "rgb(89,199,100)"
           ],
           [
            0.7490196078431373,
            "rgb(91,200,98)"
           ],
           [
            0.7529411764705882,
            "rgb(94,201,97)"
           ],
           [
            0.7568627450980392,
            "rgb(96,201,96)"
           ],
           [
            0.7607843137254902,
            "rgb(98,202,95)"
           ],
           [
            0.7647058823529411,
            "rgb(100,203,93)"
           ],
           [
            0.7686274509803922,
            "rgb(103,204,92)"
           ],
           [
            0.7725490196078432,
            "rgb(105,204,91)"
           ],
           [
            0.7764705882352941,
            "rgb(107,205,89)"
           ],
           [
            0.7803921568627451,
            "rgb(109,206,88)"
           ],
           [
            0.7843137254901961,
            "rgb(112,206,86)"
           ],
           [
            0.788235294117647,
            "rgb(114,207,85)"
           ],
           [
            0.792156862745098,
            "rgb(116,208,84)"
           ],
           [
            0.796078431372549,
            "rgb(119,208,82)"
           ],
           [
            0.8,
            "rgb(121,209,81)"
           ],
           [
            0.803921568627451,
            "rgb(124,210,79)"
           ],
           [
            0.807843137254902,
            "rgb(126,210,78)"
           ],
           [
            0.8117647058823529,
            "rgb(129,211,76)"
           ],
           [
            0.8156862745098039,
            "rgb(131,211,75)"
           ],
           [
            0.8196078431372549,
            "rgb(134,212,73)"
           ],
           [
            0.8235294117647058,
            "rgb(136,213,71)"
           ],
           [
            0.8274509803921568,
            "rgb(139,213,70)"
           ],
           [
            0.8313725490196079,
            "rgb(141,214,68)"
           ],
           [
            0.8352941176470589,
            "rgb(144,214,67)"
           ],
           [
            0.8392156862745098,
            "rgb(146,215,65)"
           ],
           [
            0.8431372549019608,
            "rgb(149,215,63)"
           ],
           [
            0.8470588235294118,
            "rgb(151,216,62)"
           ],
           [
            0.8509803921568627,
            "rgb(154,216,60)"
           ],
           [
            0.8549019607843137,
            "rgb(157,217,58)"
           ],
           [
            0.8588235294117647,
            "rgb(159,217,56)"
           ],
           [
            0.8627450980392157,
            "rgb(162,218,55)"
           ],
           [
            0.8666666666666667,
            "rgb(165,218,53)"
           ],
           [
            0.8705882352941177,
            "rgb(167,219,51)"
           ],
           [
            0.8745098039215686,
            "rgb(170,219,50)"
           ],
           [
            0.8784313725490196,
            "rgb(173,220,48)"
           ],
           [
            0.8823529411764706,
            "rgb(175,220,46)"
           ],
           [
            0.8862745098039215,
            "rgb(178,221,44)"
           ],
           [
            0.8901960784313725,
            "rgb(181,221,43)"
           ],
           [
            0.8941176470588236,
            "rgb(183,221,41)"
           ],
           [
            0.8980392156862745,
            "rgb(186,222,39)"
           ],
           [
            0.9019607843137255,
            "rgb(189,222,38)"
           ],
           [
            0.9058823529411765,
            "rgb(191,223,36)"
           ],
           [
            0.9098039215686274,
            "rgb(194,223,34)"
           ],
           [
            0.9137254901960784,
            "rgb(197,223,33)"
           ],
           [
            0.9176470588235294,
            "rgb(199,224,31)"
           ],
           [
            0.9215686274509803,
            "rgb(202,224,30)"
           ],
           [
            0.9254901960784314,
            "rgb(205,224,29)"
           ],
           [
            0.9294117647058824,
            "rgb(207,225,28)"
           ],
           [
            0.9333333333333333,
            "rgb(210,225,27)"
           ],
           [
            0.9372549019607843,
            "rgb(212,225,26)"
           ],
           [
            0.9411764705882353,
            "rgb(215,226,25)"
           ],
           [
            0.9450980392156862,
            "rgb(218,226,24)"
           ],
           [
            0.9490196078431372,
            "rgb(220,226,24)"
           ],
           [
            0.9529411764705882,
            "rgb(223,227,24)"
           ],
           [
            0.9568627450980393,
            "rgb(225,227,24)"
           ],
           [
            0.9607843137254902,
            "rgb(228,227,24)"
           ],
           [
            0.9647058823529412,
            "rgb(231,228,25)"
           ],
           [
            0.9686274509803922,
            "rgb(233,228,25)"
           ],
           [
            0.9725490196078431,
            "rgb(236,228,26)"
           ],
           [
            0.9764705882352941,
            "rgb(238,229,27)"
           ],
           [
            0.9803921568627451,
            "rgb(241,229,28)"
           ],
           [
            0.984313725490196,
            "rgb(243,229,30)"
           ],
           [
            0.9882352941176471,
            "rgb(246,230,31)"
           ],
           [
            0.9921568627450981,
            "rgb(248,230,33)"
           ],
           [
            0.996078431372549,
            "rgb(250,230,34)"
           ],
           [
            1,
            "rgb(253,231,36)"
           ]
          ],
          "size": 3
         },
         "mode": "markers",
         "type": "scatter3d",
         "x": {
          "bdata": "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",
          "dtype": "f8"
         },
         "y": {
          "bdata": "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",
          "dtype": "f8"
         },
         "z": {
          "bdata": "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",
          "dtype": "f8"
         }
        }
       ],
       "layout": {
        "margin": {
         "b": 0,
         "l": 0,
         "r": 0,
         "t": 40
        },
        "scene": {
         "xaxis": {
          "title": {
           "text": "Temperature (K)"
          }
         },
         "yaxis": {
          "title": {
           "text": "Mg fraction x"
          }
         },
         "zaxis": {
          "title": {
           "text": "$C_v$ (eV K$^{-1}$ / supercell)"
          }
         }
        },
        "template": {
         "data": {
          "bar": [
           {
            "error_x": {
             "color": "#2a3f5f"
            },
            "error_y": {
             "color": "#2a3f5f"
            },
            "marker": {
             "line": {
              "color": "#E5ECF6",
              "width": 0.5
             },
             "pattern": {
              "fillmode": "overlay",
              "size": 10,
              "solidity": 0.2
             }
            },
            "type": "bar"
           }
          ],
          "barpolar": [
           {
            "marker": {
             "line": {
              "color": "#E5ECF6",
              "width": 0.5
             },
             "pattern": {
              "fillmode": "overlay",
              "size": 10,
              "solidity": 0.2
             }
            },
            "type": "barpolar"
           }
          ],
          "carpet": [
           {
            "aaxis": {
             "endlinecolor": "#2a3f5f",
             "gridcolor": "white",
             "linecolor": "white",
             "minorgridcolor": "white",
             "startlinecolor": "#2a3f5f"
            },
            "baxis": {
             "endlinecolor": "#2a3f5f",
             "gridcolor": "white",
             "linecolor": "white",
             "minorgridcolor": "white",
             "startlinecolor": "#2a3f5f"
            },
            "type": "carpet"
           }
          ],
          "choropleth": [
           {
            "colorbar": {
             "outlinewidth": 0,
             "ticks": ""
            },
            "type": "choropleth"
           }
          ],
          "contour": [
           {
            "colorbar": {
             "outlinewidth": 0,
             "ticks": ""
            },
            "colorscale": [
             [
              0,
              "#0d0887"
             ],
             [
              0.1111111111111111,
              "#46039f"
             ],
             [
              0.2222222222222222,
              "#7201a8"
             ],
             [
              0.3333333333333333,
              "#9c179e"
             ],
             [
              0.4444444444444444,
              "#bd3786"
             ],
             [
              0.5555555555555556,
              "#d8576b"
             ],
             [
              0.6666666666666666,
              "#ed7953"
             ],
             [
              0.7777777777777778,
              "#fb9f3a"
             ],
             [
              0.8888888888888888,
              "#fdca26"
             ],
             [
              1,
              "#f0f921"
             ]
            ],
            "type": "contour"
           }
          ],
          "contourcarpet": [
           {
            "colorbar": {
             "outlinewidth": 0,
             "ticks": ""
            },
            "type": "contourcarpet"
           }
          ],
          "heatmap": [
           {
            "colorbar": {
             "outlinewidth": 0,
             "ticks": ""
            },
            "colorscale": [
             [
              0,
              "#0d0887"
             ],
             [
              0.1111111111111111,
              "#46039f"
             ],
             [
              0.2222222222222222,
              "#7201a8"
             ],
             [
              0.3333333333333333,
              "#9c179e"
             ],
             [
              0.4444444444444444,
              "#bd3786"
             ],
             [
              0.5555555555555556,
              "#d8576b"
             ],
             [
              0.6666666666666666,
              "#ed7953"
             ],
             [
              0.7777777777777778,
              "#fb9f3a"
             ],
             [
              0.8888888888888888,
              "#fdca26"
             ],
             [
              1,
              "#f0f921"
             ]
            ],
            "type": "heatmap"
           }
          ],
          "histogram": [
           {
            "marker": {
             "pattern": {
              "fillmode": "overlay",
              "size": 10,
              "solidity": 0.2
             }
            },
            "type": "histogram"
           }
          ],
          "histogram2d": [
           {
            "colorbar": {
             "outlinewidth": 0,
             "ticks": ""
            },
            "colorscale": [
             [
              0,
              "#0d0887"
             ],
             [
              0.1111111111111111,
              "#46039f"
             ],
             [
              0.2222222222222222,
              "#7201a8"
             ],
             [
              0.3333333333333333,
              "#9c179e"
             ],
             [
              0.4444444444444444,
              "#bd3786"
             ],
             [
              0.5555555555555556,
              "#d8576b"
             ],
             [
              0.6666666666666666,
              "#ed7953"
             ],
             [
              0.7777777777777778,
              "#fb9f3a"
             ],
             [
              0.8888888888888888,
              "#fdca26"
             ],
             [
              1,
              "#f0f921"
             ]
            ],
            "type": "histogram2d"
           }
          ],
          "histogram2dcontour": [
           {
            "colorbar": {
             "outlinewidth": 0,
             "ticks": ""
            },
            "colorscale": [
             [
              0,
              "#0d0887"
             ],
             [
              0.1111111111111111,
              "#46039f"
             ],
             [
              0.2222222222222222,
              "#7201a8"
             ],
             [
              0.3333333333333333,
              "#9c179e"
             ],
             [
              0.4444444444444444,
              "#bd3786"
             ],
             [
              0.5555555555555556,
              "#d8576b"
             ],
             [
              0.6666666666666666,
              "#ed7953"
             ],
             [
              0.7777777777777778,
              "#fb9f3a"
             ],
             [
              0.8888888888888888,
              "#fdca26"
             ],
             [
              1,
              "#f0f921"
             ]
            ],
            "type": "histogram2dcontour"
           }
          ],
          "mesh3d": [
           {
            "colorbar": {
             "outlinewidth": 0,
             "ticks": ""
            },
            "type": "mesh3d"
           }
          ],
          "parcoords": [
           {
            "line": {
             "colorbar": {
              "outlinewidth": 0,
              "ticks": ""
             }
            },
            "type": "parcoords"
           }
          ],
          "pie": [
           {
            "automargin": true,
            "type": "pie"
           }
          ],
          "scatter": [
           {
            "fillpattern": {
             "fillmode": "overlay",
             "size": 10,
             "solidity": 0.2
            },
            "type": "scatter"
           }
          ],
          "scatter3d": [
           {
            "line": {
             "colorbar": {
              "outlinewidth": 0,
              "ticks": ""
             }
            },
            "marker": {
             "colorbar": {
              "outlinewidth": 0,
              "ticks": ""
             }
            },
            "type": "scatter3d"
           }
          ],
          "scattercarpet": [
           {
            "marker": {
             "colorbar": {
              "outlinewidth": 0,
              "ticks": ""
             }
            },
            "type": "scattercarpet"
           }
          ],
          "scattergeo": [
           {
            "marker": {
             "colorbar": {
              "outlinewidth": 0,
              "ticks": ""
             }
            },
            "type": "scattergeo"
           }
          ],
          "scattergl": [
           {
            "marker": {
             "colorbar": {
              "outlinewidth": 0,
              "ticks": ""
             }
            },
            "type": "scattergl"
           }
          ],
          "scattermap": [
           {
            "marker": {
             "colorbar": {
              "outlinewidth": 0,
              "ticks": ""
             }
            },
            "type": "scattermap"
           }
          ],
          "scattermapbox": [
           {
            "marker": {
             "colorbar": {
              "outlinewidth": 0,
              "ticks": ""
             }
            },
            "type": "scattermapbox"
           }
          ],
          "scatterpolar": [
           {
            "marker": {
             "colorbar": {
              "outlinewidth": 0,
              "ticks": ""
             }
            },
            "type": "scatterpolar"
           }
          ],
          "scatterpolargl": [
           {
            "marker": {
             "colorbar": {
              "outlinewidth": 0,
              "ticks": ""
             }
            },
            "type": "scatterpolargl"
           }
          ],
          "scatterternary": [
           {
            "marker": {
             "colorbar": {
              "outlinewidth": 0,
              "ticks": ""
             }
            },
            "type": "scatterternary"
           }
          ],
          "surface": [
           {
            "colorbar": {
             "outlinewidth": 0,
             "ticks": ""
            },
            "colorscale": [
             [
              0,
              "#0d0887"
             ],
             [
              0.1111111111111111,
              "#46039f"
             ],
             [
              0.2222222222222222,
              "#7201a8"
             ],
             [
              0.3333333333333333,
              "#9c179e"
             ],
             [
              0.4444444444444444,
              "#bd3786"
             ],
             [
              0.5555555555555556,
              "#d8576b"
             ],
             [
              0.6666666666666666,
              "#ed7953"
             ],
             [
              0.7777777777777778,
              "#fb9f3a"
             ],
             [
              0.8888888888888888,
              "#fdca26"
             ],
             [
              1,
              "#f0f921"
             ]
            ],
            "type": "surface"
           }
          ],
          "table": [
           {
            "cells": {
             "fill": {
              "color": "#EBF0F8"
             },
             "line": {
              "color": "white"
             }
            },
            "header": {
             "fill": {
              "color": "#C8D4E3"
             },
             "line": {
              "color": "white"
             }
            },
            "type": "table"
           }
          ]
         },
         "layout": {
          "annotationdefaults": {
           "arrowcolor": "#2a3f5f",
           "arrowhead": 0,
           "arrowwidth": 1
          },
          "autotypenumbers": "strict",
          "coloraxis": {
           "colorbar": {
            "outlinewidth": 0,
            "ticks": ""
           }
          },
          "colorscale": {
           "diverging": [
            [
             0,
             "#8e0152"
            ],
            [
             0.1,
             "#c51b7d"
            ],
            [
             0.2,
             "#de77ae"
            ],
            [
             0.3,
             "#f1b6da"
            ],
            [
             0.4,
             "#fde0ef"
            ],
            [
             0.5,
             "#f7f7f7"
            ],
            [
             0.6,
             "#e6f5d0"
            ],
            [
             0.7,
             "#b8e186"
            ],
            [
             0.8,
             "#7fbc41"
            ],
            [
             0.9,
             "#4d9221"
            ],
            [
             1,
             "#276419"
            ]
           ],
           "sequential": [
            [
             0,
             "#0d0887"
            ],
            [
             0.1111111111111111,
             "#46039f"
            ],
            [
             0.2222222222222222,
             "#7201a8"
            ],
            [
             0.3333333333333333,
             "#9c179e"
            ],
            [
             0.4444444444444444,
             "#bd3786"
            ],
            [
             0.5555555555555556,
             "#d8576b"
            ],
            [
             0.6666666666666666,
             "#ed7953"
            ],
            [
             0.7777777777777778,
             "#fb9f3a"
            ],
            [
             0.8888888888888888,
             "#fdca26"
            ],
            [
             1,
             "#f0f921"
            ]
           ],
           "sequentialminus": [
            [
             0,
             "#0d0887"
            ],
            [
             0.1111111111111111,
             "#46039f"
            ],
            [
             0.2222222222222222,
             "#7201a8"
            ],
            [
             0.3333333333333333,
             "#9c179e"
            ],
            [
             0.4444444444444444,
             "#bd3786"
            ],
            [
             0.5555555555555556,
             "#d8576b"
            ],
            [
             0.6666666666666666,
             "#ed7953"
            ],
            [
             0.7777777777777778,
             "#fb9f3a"
            ],
            [
             0.8888888888888888,
             "#fdca26"
            ],
            [
             1,
             "#f0f921"
            ]
           ]
          },
          "colorway": [
           "#636efa",
           "#EF553B",
           "#00cc96",
           "#ab63fa",
           "#FFA15A",
           "#19d3f3",
           "#FF6692",
           "#B6E880",
           "#FF97FF",
           "#FECB52"
          ],
          "font": {
           "color": "#2a3f5f"
          },
          "geo": {
           "bgcolor": "white",
           "lakecolor": "white",
           "landcolor": "#E5ECF6",
           "showlakes": true,
           "showland": true,
           "subunitcolor": "white"
          },
          "hoverlabel": {
           "align": "left"
          },
          "hovermode": "closest",
          "mapbox": {
           "style": "light"
          },
          "paper_bgcolor": "white",
          "plot_bgcolor": "#E5ECF6",
          "polar": {
           "angularaxis": {
            "gridcolor": "white",
            "linecolor": "white",
            "ticks": ""
           },
           "bgcolor": "#E5ECF6",
           "radialaxis": {
            "gridcolor": "white",
            "linecolor": "white",
            "ticks": ""
           }
          },
          "scene": {
           "xaxis": {
            "backgroundcolor": "#E5ECF6",
            "gridcolor": "white",
            "gridwidth": 2,
            "linecolor": "white",
            "showbackground": true,
            "ticks": "",
            "zerolinecolor": "white"
           },
           "yaxis": {
            "backgroundcolor": "#E5ECF6",
            "gridcolor": "white",
            "gridwidth": 2,
            "linecolor": "white",
            "showbackground": true,
            "ticks": "",
            "zerolinecolor": "white"
           },
           "zaxis": {
            "backgroundcolor": "#E5ECF6",
            "gridcolor": "white",
            "gridwidth": 2,
            "linecolor": "white",
            "showbackground": true,
            "ticks": "",
            "zerolinecolor": "white"
           }
          },
          "shapedefaults": {
           "line": {
            "color": "#2a3f5f"
           }
          },
          "ternary": {
           "aaxis": {
            "gridcolor": "white",
            "linecolor": "white",
            "ticks": ""
           },
           "baxis": {
            "gridcolor": "white",
            "linecolor": "white",
            "ticks": ""
           },
           "bgcolor": "#E5ECF6",
           "caxis": {
            "gridcolor": "white",
            "linecolor": "white",
            "ticks": ""
           }
          },
          "title": {
           "x": 0.05
          },
          "xaxis": {
           "automargin": true,
           "gridcolor": "white",
           "linecolor": "white",
           "ticks": "",
           "title": {
            "standoff": 15
           },
           "zerolinecolor": "white",
           "zerolinewidth": 2
          },
          "yaxis": {
           "automargin": true,
           "gridcolor": "white",
           "linecolor": "white",
           "ticks": "",
           "title": {
            "standoff": 15
           },
           "zerolinecolor": "white",
           "zerolinewidth": 2
          }
         }
        },
        "title": {
         "text": "$C_v(T,x)$ – Wang-Landau"
        }
       }
      }
     },
     "metadata": {},
     "output_type": "display_data"
    }
   ],
   "source": [
    "import tc.wang_landau\n",
    "fig = tc.wang_landau.plot_cv_surface(ratios, temperatures, Cv_mat, mode=\"scatter\", engine=\"plotly\")\n",
    "fig.show()"
   ]
  }
 ],
 "metadata": {
  "kernelspec": {
   "display_name": "tc312",
   "language": "python",
   "name": "python3"
  },
  "language_info": {
   "codemirror_mode": {
    "name": "ipython",
    "version": 3
   },
   "file_extension": ".py",
   "mimetype": "text/x-python",
   "name": "python",
   "nbconvert_exporter": "python",
   "pygments_lexer": "ipython3",
   "version": "3.12.11"
  }
 },
 "nbformat": 4,
 "nbformat_minor": 5
}
