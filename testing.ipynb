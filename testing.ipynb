{
 "cells": [
  {
   "cell_type": "code",
   "execution_count": null,
   "id": "8148e974",
   "metadata": {},
   "outputs": [],
   "source": [
    "%load_ext autoreload\n",
    "%autoreload 2\n",
    "\n",
    "import numpy as np\n",
    "from ase.build import bulk\n",
    "\n",
    "Mg_conv_cell = bulk(\"MgO\", crystalstructure=\"rocksalt\", a=4.2, cubic=True)\n",
    "rng = np.random.default_rng(42)\n",
    "replace_element = \"Mg\"\n",
    "new_elements=(\"Mg\", \"Fe\")\n",
    "filename = f\"{''.join(new_elements)}O_ensembles.json.gz\"\n",
    "ratio = 0.5"
   ]
  },
  {
   "cell_type": "code",
   "execution_count": null,
   "id": "8ede8a91",
   "metadata": {},
   "outputs": [
    {
     "name": "stderr",
     "output_type": "stream",
     "text": [
      "/home/colin/miniforge/envs/tc312/lib/python3.12/site-packages/e3nn/o3/_wigner.py:10: UserWarning: Environment variable TORCH_FORCE_NO_WEIGHTS_ONLY_LOAD detected, since the`weights_only` argument was not explicitly passed to `torch.load`, forcing weights_only=False.\n",
      "  _Jd, _W3j_flat, _W3j_indices = torch.load(os.path.join(os.path.dirname(__file__), 'constants.pt'))\n"
     ]
    },
    {
     "name": "stdout",
     "output_type": "stream",
     "text": [
      "Ensembles already exist, skipping creation.\n"
     ]
    },
    {
     "data": {
      "application/vnd.jupyter.widget-view+json": {
       "model_id": "e0a2213064e04e93820974ebc5a5ac63",
       "version_major": 2,
       "version_minor": 0
      },
      "text/plain": [
       "  0%|          | 0/10000 [00:00<?, ?it/s]"
      ]
     },
     "metadata": {},
     "output_type": "display_data"
    },
    {
     "name": "stdout",
     "output_type": "stream",
     "text": [
      "CE energies: mean = -77617.00 meV, std =  1404.58 meV, min = -83467.04 meV, max = -71943.38 meV\n",
      "Energy window : [-84.640, -70.594] eV (100 bins, 0.1405 eV each)\n"
     ]
    },
    {
     "name": "stderr",
     "output_type": "stream",
     "text": [
      "Sampling 1 chain(s) from a cell with 4096 sites:  55%|█████▍    | 2250822/4096000 [03:13<02:48, 10930.39it/s]"
     ]
    }
   ],
   "source": [
    "from monty.serialization import dumpfn, loadfn\n",
    "import tc.dataset\n",
    "import tc.testing\n",
    "import tc.wang_landau\n",
    "from mace.calculators import mace_mp\n",
    "\n",
    "# Only create the ensembles if they do not already exist\n",
    "try:\n",
    "    ensembles = loadfn(filename)\n",
    "    print(\"Ensembles already exist, skipping creation.\")\n",
    "except FileNotFoundError:\n",
    "    print(\"Creating new ensembles...\")\n",
    "    calc = mace_mp(model=\"large\", device=\"cuda\", default_dtype=\"float64\")\n",
    "    ensembles = tc.dataset.make_ce_ensembles_from_mace(conv_cell=Mg_conv_cell, rng=rng, calc=calc, ratio=ratio, \n",
    "                                                       replace_element=replace_element, new_elements=new_elements, bin_counts=200)\n",
    "    dumpfn(ensembles, filename, indent=2)\n",
    "    for ensemble in ensembles:\n",
    "        stats = tc.testing.evaluate_ensemble_vs_mace(ensemble=ensemble, calc=calc, conv_cell=Mg_conv_cell, rng=rng, \n",
    "                                                     replace_element=replace_element, new_elements=new_elements)\n",
    "\n",
    "ensemble_4, ensemble_6, ensemble_8 = ensembles\n",
    "samples = tc.testing.sample_configs_fast(ensemble_8, rng, n_samples=10_000, ratio=ratio)\n",
    "sampler = tc.wang_landau.run_wang_landau(ensemble=ensemble_8, samples=samples, rng=rng, ratio=ratio)"
   ]
  }
 ],
 "metadata": {
  "kernelspec": {
   "display_name": "tc312",
   "language": "python",
   "name": "python3"
  },
  "language_info": {
   "codemirror_mode": {
    "name": "ipython",
    "version": 3
   },
   "file_extension": ".py",
   "mimetype": "text/x-python",
   "name": "python",
   "nbconvert_exporter": "python",
   "pygments_lexer": "ipython3",
   "version": "3.12.11"
  }
 },
 "nbformat": 4,
 "nbformat_minor": 5
}
