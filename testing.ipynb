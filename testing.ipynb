{
 "cells": [
  {
   "cell_type": "code",
   "execution_count": 1,
   "id": "8148e974",
   "metadata": {},
   "outputs": [],
   "source": [
    "%load_ext autoreload\n",
    "%autoreload 2\n",
    "\n",
    "import numpy as np\n",
    "from ase.build import bulk\n",
    "\n",
    "# Build a bulk structure of MgO with rocksalt crystal structure\n",
    "# Then, replace some of the Mg atoms with Fe atoms at a specified ratio.\n",
    "Mg_conv_cell = bulk(\"MgO\", crystalstructure=\"rocksalt\", a=4.2, cubic=True)\n",
    "rng = np.random.default_rng(123)\n",
    "replace_element = \"Mg\"\n",
    "new_elements=(\"Mg\", \"Fe\")\n",
    "T_low = 100\n",
    "T_high = 1000\n",
    "ratio = 0.5"
   ]
  },
  {
   "cell_type": "code",
   "execution_count": 2,
   "id": "8ede8a91",
   "metadata": {},
   "outputs": [
    {
     "name": "stderr",
     "output_type": "stream",
     "text": [
      "/home/colin/miniforge/envs/tc312/lib/python3.12/site-packages/e3nn/o3/_wigner.py:10: UserWarning: Environment variable TORCH_FORCE_NO_WEIGHTS_ONLY_LOAD detected, since the`weights_only` argument was not explicitly passed to `torch.load`, forcing weights_only=False.\n",
      "  _Jd, _W3j_flat, _W3j_indices = torch.load(os.path.join(os.path.dirname(__file__), 'constants.pt'))\n"
     ]
    },
    {
     "name": "stdout",
     "output_type": "stream",
     "text": [
      "Creating new ensembles...\n",
      "Using Materials Project MACE for MACECalculator with /home/colin/.cache/mace/MACE_MPtrj_20229model\n",
      "Using float32 for MACECalculator, which is faster but less accurate. Recommended for MD. Use float64 for geometry optimization.\n"
     ]
    },
    {
     "name": "stderr",
     "output_type": "stream",
     "text": [
      "/home/colin/miniforge/envs/tc312/lib/python3.12/site-packages/mace/calculators/mace.py:143: UserWarning: Environment variable TORCH_FORCE_NO_WEIGHTS_ONLY_LOAD detected, since the`weights_only` argument was not explicitly passed to `torch.load`, forcing weights_only=False.\n",
      "  torch.load(f=model_path, map_location=device)\n"
     ]
    },
    {
     "name": "stdout",
     "output_type": "stream",
     "text": [
      "Using head Default out of ['Default']\n",
      "Default dtype float32 does not match model dtype float64, converting models to float32.\n",
      "Total snapshots: 1002 for 864 cations\n"
     ]
    },
    {
     "data": {
      "application/vnd.jupyter.widget-view+json": {
       "model_id": "704bef2ffaa04923821f0ab9cc975e39",
       "version_major": 2,
       "version_minor": 0
      },
      "text/plain": [
       "MACE energies:   0%|          | 0/1002 [00:00<?, ?it/s]"
      ]
     },
     "metadata": {},
     "output_type": "display_data"
    },
    {
     "name": "stdout",
     "output_type": "stream",
     "text": [
      "Primitive cell: MgFeO2 with 4 cations\n",
      "Number of orbits: 92\n"
     ]
    },
    {
     "data": {
      "application/vnd.jupyter.widget-view+json": {
       "model_id": "fc73a3037c2041c798c0bde78ee0c4df",
       "version_major": 2,
       "version_minor": 0
      },
      "text/plain": [
       "Adding:   0%|          | 0/1002 [00:00<?, ?it/s]"
      ]
     },
     "metadata": {},
     "output_type": "display_data"
    },
    {
     "name": "stdout",
     "output_type": "stream",
     "text": [
      "Matched structures: 1002/1002\n",
      "rank = 92 of 92 columns\n",
      "RMSE     0.31 meV   MAX     3.31 meV\n",
      "5-fold CV RMSE: 0.3343999420577831 meV\n"
     ]
    },
    {
     "data": {
      "application/vnd.jupyter.widget-view+json": {
       "model_id": "fcafc64d05e24b7f92a64d96af346c0f",
       "version_major": 2,
       "version_minor": 0
      },
      "text/plain": [
       "CE vs MACE:   0%|          | 0/30 [00:00<?, ?it/s]"
      ]
     },
     "metadata": {},
     "output_type": "display_data"
    },
    {
     "name": "stdout",
     "output_type": "stream",
     "text": [
      " x_Li = 0.50 → CE = -8994.70 meV   MACE = -8834.96 meV\n",
      " x_Li = 0.20 → CE = -6605.59 meV   MACE = -6482.56 meV\n",
      " x_Li = 1.00 → CE =  -868.03 meV   MACE =     4.15 meV\n",
      " x_Li = 0.20 → CE = -7192.52 meV   MACE = -7090.71 meV\n",
      " x_Li = 0.80 → CE =   202.69 meV   MACE =   291.88 meV\n",
      " x_Li = 0.20 → CE = -7042.38 meV   MACE = -6976.94 meV\n",
      " x_Li = 1.00 → CE =  -868.03 meV   MACE =     4.15 meV\n",
      " x_Li = 0.80 → CE =   686.08 meV   MACE =   757.46 meV\n",
      " x_Li = 0.00 → CE =  -360.35 meV   MACE =     0.73 meV\n",
      " x_Li = 0.20 → CE = -6343.32 meV   MACE = -6339.25 meV\n",
      " x_Li = 0.20 → CE = -5894.45 meV   MACE = -5853.16 meV\n",
      " x_Li = 0.80 → CE =   747.58 meV   MACE =   789.93 meV\n",
      " x_Li = 1.00 → CE =  -868.03 meV   MACE =     4.15 meV\n",
      " x_Li = 0.20 → CE = -6991.10 meV   MACE = -6964.74 meV\n",
      " x_Li = 0.50 → CE = -9412.57 meV   MACE = -9474.12 meV\n",
      " x_Li = 0.20 → CE = -6691.34 meV   MACE = -6709.61 meV\n",
      " x_Li = 0.50 → CE = -9913.68 meV   MACE = -9920.17 meV\n",
      " x_Li = 0.80 → CE =  -390.40 meV   MACE =  -317.00 meV\n",
      " x_Li = 0.20 → CE = -6512.86 meV   MACE = -6419.08 meV\n",
      " x_Li = 0.20 → CE = -7087.16 meV   MACE = -7058.24 meV\n",
      " x_Li = 0.20 → CE = -6610.45 meV   MACE = -6549.45 meV\n",
      " x_Li = 0.00 → CE =  -360.35 meV   MACE =     0.73 meV\n",
      " x_Li = 0.20 → CE = -6361.72 meV   MACE = -6294.32 meV\n",
      " x_Li = 0.20 → CE = -6660.36 meV   MACE = -6516.25 meV\n",
      " x_Li = 1.00 → CE =  -868.03 meV   MACE =     4.15 meV\n",
      " x_Li = 1.00 → CE =  -868.03 meV   MACE =     4.15 meV\n",
      " x_Li = 1.00 → CE =  -868.03 meV   MACE =     4.15 meV\n",
      " x_Li = 0.80 → CE =   989.30 meV   MACE =  1042.62 meV\n",
      " x_Li = 0.80 → CE =  1023.95 meV   MACE =   930.07 meV\n",
      " x_Li = 1.00 → CE =  -868.03 meV   MACE =     4.15 meV\n",
      "\n",
      "------------ CE  vs  MACE  ------------\n",
      " x_Li = 0.00 → RMSE = 361.09 meV   |err|_max = 361.09 meV\n",
      " x_Li = 0.20 → RMSE =  77.03 meV   |err|_max = 144.11 meV\n",
      " x_Li = 0.50 → RMSE =  98.91 meV   |err|_max = 159.74 meV\n",
      " x_Li = 0.80 → RMSE =  72.90 meV   |err|_max =  93.88 meV\n",
      " x_Li = 1.00 → RMSE = 872.18 meV   |err|_max = 872.18 meV\n",
      "----------------------------------------\n",
      " overall       RMSE = 436.58 meV   |err|_max = 872.18 meV\n"
     ]
    }
   ],
   "source": [
    "from monty.serialization import loadfn\n",
    "import tc.dataset\n",
    "import tc.testing\n",
    "from mace.calculators import mace_mp\n",
    "\n",
    "# Only create the ensembles if they do not already exist\n",
    "try:\n",
    "    ensemble = loadfn(f\"{''.join(new_elements)}O_ensemble4.json.gz\")\n",
    "    print(\"Ensemble already exist, skipping creation.\")\n",
    "except FileNotFoundError:\n",
    "    print(\"Creating new ensembles...\")\n",
    "    calc = mace_mp(model=\"large\", device=\"cuda\", default_dtype=\"float32\")\n",
    "    ensembles = tc.dataset.make_ce_ensembles_from_mace(conv_cell=Mg_conv_cell, rng=rng, calc=calc, supercell_size=6,\n",
    "                                                       replace_element=replace_element, new_elements=new_elements, bin_counts=50, bins=20)\n",
    "    # This is likely to run out of VRAM, which is why we save the ensembles when we create them.\n",
    "    for ens in ensembles[:1]:\n",
    "        stats = tc.testing.evaluate_ensemble_vs_mace(ensemble=ens, calc=calc, conv_cell=Mg_conv_cell, rng=rng, \n",
    "                                                     replace_element=replace_element, new_elements=new_elements)\n",
    "\n",
    "    ensemble_4, ensemble_6 = ensembles\n",
    "    ensemble = ensemble_4\n",
    "\n"
   ]
  },
  {
   "cell_type": "code",
   "execution_count": 3,
   "id": "3c6015c5",
   "metadata": {},
   "outputs": [
    {
     "name": "stdout",
     "output_type": "stream",
     "text": [
      "Using Materials Project MACE for MACECalculator with /home/colin/.cache/mace/MACE_MPtrj_20229model\n",
      "Using float64 for MACECalculator, which is slower but more accurate. Recommended for geometry optimization.\n"
     ]
    },
    {
     "name": "stderr",
     "output_type": "stream",
     "text": [
      "/home/colin/miniforge/envs/tc312/lib/python3.12/site-packages/mace/calculators/mace.py:143: UserWarning: Environment variable TORCH_FORCE_NO_WEIGHTS_ONLY_LOAD detected, since the`weights_only` argument was not explicitly passed to `torch.load`, forcing weights_only=False.\n",
      "  torch.load(f=model_path, map_location=device)\n"
     ]
    },
    {
     "name": "stdout",
     "output_type": "stream",
     "text": [
      "Using head Default out of ['Default']\n"
     ]
    },
    {
     "data": {
      "application/vnd.jupyter.widget-view+json": {
       "model_id": "cf76cfada7394982b8417f94022ea6b4",
       "version_major": 2,
       "version_minor": 0
      },
      "text/plain": [
       "CE vs MACE:   0%|          | 0/30 [00:00<?, ?it/s]"
      ]
     },
     "metadata": {},
     "output_type": "display_data"
    },
    {
     "name": "stdout",
     "output_type": "stream",
     "text": [
      " x_Li = 0.10 → CE = -3244.32 meV   MACE = -3313.55 meV\n",
      " x_Li = 0.10 → CE = -3234.65 meV   MACE = -3303.43 meV\n",
      " x_Li = 0.90 → CE =  1408.94 meV   MACE =  1339.46 meV\n",
      " x_Li = 0.50 → CE = -9539.97 meV   MACE = -9707.89 meV\n",
      " x_Li = 0.90 → CE =  2215.17 meV   MACE =  2029.25 meV\n",
      " x_Li = 0.90 → CE =  1777.72 meV   MACE =  1706.16 meV\n",
      " x_Li = 0.90 → CE =  1745.89 meV   MACE =  1725.55 meV\n",
      " x_Li = 0.90 → CE =  2291.27 meV   MACE =  2206.30 meV\n",
      " x_Li = 0.10 → CE = -3263.07 meV   MACE = -3303.23 meV\n",
      " x_Li = 0.90 → CE =  2934.85 meV   MACE =  2685.19 meV\n",
      " x_Li = 0.80 → CE =   240.19 meV   MACE =   149.84 meV\n",
      " x_Li = 0.20 → CE = -6549.05 meV   MACE = -6514.38 meV\n",
      " x_Li = 0.90 → CE =  2173.96 meV   MACE =  2113.23 meV\n",
      " x_Li = 0.90 → CE =  2038.98 meV   MACE =  1934.98 meV\n",
      " x_Li = 0.20 → CE = -6016.81 meV   MACE = -6008.78 meV\n",
      " x_Li = 0.20 → CE = -6334.69 meV   MACE = -6294.28 meV\n",
      " x_Li = 0.10 → CE = -3376.19 meV   MACE = -3367.05 meV\n",
      " x_Li = 0.80 → CE =  -310.26 meV   MACE =  -110.46 meV\n",
      " x_Li = 0.90 → CE =  2265.93 meV   MACE =  2173.75 meV\n",
      " x_Li = 0.10 → CE = -3191.78 meV   MACE = -3260.14 meV\n",
      " x_Li = 0.90 → CE =  2059.51 meV   MACE =  1976.73 meV\n",
      " x_Li = 0.50 → CE = -9075.70 meV   MACE = -9252.49 meV\n",
      " x_Li = 0.80 → CE =  1402.37 meV   MACE =  1517.25 meV\n",
      " x_Li = 0.50 → CE = -9791.30 meV   MACE = -10052.95 meV\n",
      " x_Li = 0.10 → CE = -2928.13 meV   MACE = -3098.19 meV\n",
      " x_Li = 0.50 → CE = -8993.50 meV   MACE = -9090.22 meV\n",
      " x_Li = 0.10 → CE = -3188.90 meV   MACE = -3205.82 meV\n",
      " x_Li = 0.80 → CE =   465.83 meV   MACE =   518.02 meV\n",
      " x_Li = 0.20 → CE = -6642.73 meV   MACE = -6600.70 meV\n",
      " x_Li = 0.10 → CE = -3190.51 meV   MACE = -3275.07 meV\n",
      "\n",
      "------------ CE  vs  MACE  ------------\n",
      " x_Li = 0.10 → RMSE =  80.81 meV   |err|_max = 170.06 meV\n",
      " x_Li = 0.20 → RMSE =  34.15 meV   |err|_max =  42.03 meV\n",
      " x_Li = 0.50 → RMSE = 185.25 meV   |err|_max = 261.65 meV\n",
      " x_Li = 0.80 → RMSE = 126.49 meV   |err|_max = 199.80 meV\n",
      " x_Li = 0.90 → RMSE = 120.14 meV   |err|_max = 249.66 meV\n",
      "----------------------------------------\n",
      " overall       RMSE = 115.83 meV   |err|_max = 261.65 meV\n"
     ]
    }
   ],
   "source": [
    "calc = mace_mp(model=\"large\", device=\"cuda\", default_dtype=\"float64\")\n",
    "stats = tc.testing.evaluate_ensemble_vs_mace(ensemble=ensemble, calc=calc, conv_cell=Mg_conv_cell, rng=rng, \n",
    "                                                     replace_element=replace_element, new_elements=new_elements, comps=(0.1, 0.2, 0.5, 0.8, 0.9))"
   ]
  },
  {
   "cell_type": "code",
   "execution_count": null,
   "id": "e18b7134",
   "metadata": {},
   "outputs": [
    {
     "data": {
      "application/vnd.jupyter.widget-view+json": {
       "model_id": "5d2b06cb88804e81b2777cbb7929b1a6",
       "version_major": 2,
       "version_minor": 0
      },
      "text/plain": [
       "  0%|          | 0/10000 [00:00<?, ?it/s]"
      ]
     },
     "metadata": {},
     "output_type": "display_data"
    },
    {
     "name": "stdout",
     "output_type": "stream",
     "text": [
      "ratio: 0.5 CE energies: mean = -9699.64 meV, std =   462.63 meV, min = -11602.78 meV, max = -7316.46 meV\n",
      "Energy window : [-28.205, 8.805] eV (200 bins, 0.1851 eV each)\n"
     ]
    },
    {
     "name": "stderr",
     "output_type": "stream",
     "text": [
      "Sampling 1 chain(s) from a cell with 512 sites:   2%|▏         | 1958901/102400000 [02:51<2:14:51, 12412.74it/s]"
     ]
    }
   ],
   "source": [
    "\"\"\"\n",
    "Single threaded Wang-Landau sampling\n",
    "\"\"\"\n",
    "\n",
    "import tc.wang_landau\n",
    "import tc.testing\n",
    "\n",
    "samples = tc.testing.sample_configs_fast(ensemble, rng, n_samples=10_000, ratio=ratio)\n",
    "sampler, mu, min_E, max_E, bin_size = tc.wang_landau.run_wang_landau(ensemble=ensemble, samples=samples, rng=rng, \n",
    "                                                                     ratio=ratio, n_samples_per_site=200_000, num_bins=200,\n",
    "                                                                     window_width_factor=(40,40), progress=True)\n",
    "temperatures_K = np.linspace(T_low, T_high, 10_000)\n",
    "Cv = tc.wang_landau.compute_thermodynamics(sampler, temperatures_K)\n",
    "tc.wang_landau.generate_wl_plots( mu, min_E, max_E, bin_size, sampler, temperatures_K, Cv)"
   ]
  },
  {
   "cell_type": "code",
   "execution_count": null,
   "id": "95258029",
   "metadata": {},
   "outputs": [
    {
     "data": {
      "application/vnd.jupyter.widget-view+json": {
       "model_id": "813bd1820261476aad8470a709ea55ba",
       "version_major": 2,
       "version_minor": 0
      },
      "text/plain": [
       "Metropolis:   0%|          | 0/200 [00:00<?, ?T/s]"
      ]
     },
     "metadata": {},
     "output_type": "display_data"
    },
    {
     "data": {
      "image/png": "[encoded data removed]",
      "text/plain": [
       "<Figure size 500x400 with 1 Axes>"
      ]
     },
     "metadata": {},
     "output_type": "display_data"
    }
   ],
   "source": [
    "\"\"\"\n",
    "Parallel Metropolis heat-capacity sweep\n",
    "\"\"\"\n",
    "\n",
    "import os, numpy as np\n",
    "from concurrent.futures import ProcessPoolExecutor\n",
    "from tqdm.auto import tqdm\n",
    "import tc.metropolis\n",
    "\n",
    "# Temperatures to sample and an independent RNG seed for every worker (avoids accidental correlations).\n",
    "Ts = np.linspace(T_low, T_high, 200)\n",
    "seed_root = np.random.SeedSequence(42) # master seed\n",
    "child_seeds = seed_root.spawn(len(Ts))\n",
    "\n",
    "def _single_Cv(T, seed):\n",
    "    rng = np.random.default_rng(seed)\n",
    "    return tc.metropolis.run_metropolis_heat_capacity(\n",
    "        ensemble, # cheap shallow copy is enough (I hope)\n",
    "        T,\n",
    "        rng,\n",
    "        replace_element=replace_element,\n",
    "        new_elements=new_elements,\n",
    "        ratio=ratio,\n",
    "        n_steps_per_site=10_000,\n",
    "        thin_target=40_000,\n",
    "    )\n",
    "\n",
    "# Fan the temperature points out to all available cores.\n",
    "n_workers = os.cpu_count() // 2 # type: ignore # leave some cores free for the GUI and other tasks for my laptop\n",
    "print(f\"Using {n_workers} workers for parallel sampling.\")\n",
    "with ProcessPoolExecutor(max_workers=n_workers) as pool:\n",
    "    Cv = list(tqdm(pool.map(_single_Cv, Ts, child_seeds), total=len(Ts), desc=\"Metropolis\", unit=\"T\"))\n",
    "\n",
    "tc.metropolis.plot_cv_curve(Ts, np.array(Cv))\n"
   ]
  },
  {
   "cell_type": "code",
   "execution_count": null,
   "id": "fd6efe45",
   "metadata": {},
   "outputs": [
    {
     "data": {
      "application/vnd.jupyter.widget-view+json": {
       "model_id": "51597e4f1ba34d21b8de2f4025301b8a",
       "version_major": 2,
       "version_minor": 0
      },
      "text/plain": [
       "WL slices:   0%|          | 0/39 [00:00<?, ?it/s]"
      ]
     },
     "metadata": {},
     "output_type": "display_data"
    }
   ],
   "source": [
    "\"\"\"\n",
    "Parallel Wang–Landau over composition grid\n",
    "------------------------------------------\n",
    "* Computes Cv(T) for each `ratio` in `ratios`\n",
    "* Uses all available CPU cores via ProcessPoolExecutor\n",
    "* Stores results in Cv_mat  (shape: len(ratios) × len(T))\n",
    "\"\"\"\n",
    "\n",
    "import os, numpy as np\n",
    "from concurrent.futures import ProcessPoolExecutor, as_completed\n",
    "from tqdm.auto import tqdm\n",
    "\n",
    "import tc.wang_landau as wl\n",
    "import tc.testing as tct\n",
    "\n",
    "# ── input parameters ────────────────────────────────────────────────\n",
    "ratios       = np.linspace(0.05, 0.95, 39)        # Mg fraction grid\n",
    "temperatures = np.linspace(100, 1500, 500)        # K\n",
    "num_bins     = 200\n",
    "window_width = (40, 40)\n",
    "n_steps_per  = 200_000\n",
    "\n",
    "# ── helper to run one composition slice ─────────────────────────────\n",
    "def _cv_for_ratio(r):\n",
    "    rng_local = np.random.default_rng(int(r * 1e6) ^ 12345)\n",
    "    samples = tct.sample_configs_fast(ensemble, rng_local,\n",
    "                                      n_samples=10_000, ratio=r)\n",
    "    sampler, *_ = wl.run_wang_landau(\n",
    "        ensemble=ensemble,\n",
    "        samples=samples,\n",
    "        rng=rng_local,\n",
    "        ratio=r,\n",
    "        n_samples_per_site=n_steps_per,\n",
    "        num_bins=num_bins,\n",
    "        window_width_factor=window_width,\n",
    "        progress=False,  # disable progress bar in workers\n",
    "    )\n",
    "    Cv = wl.compute_thermodynamics(sampler, temperatures)\n",
    "    return r, Cv\n",
    "\n",
    "# ── launch workers ─────────────────────────────────────────────────\n",
    "n_workers = os.cpu_count()\n",
    "Cv_mat = np.empty((len(ratios), len(temperatures)))\n",
    "\n",
    "with ProcessPoolExecutor(max_workers=n_workers) as pool:\n",
    "    futures = {pool.submit(_cv_for_ratio, r): idx\n",
    "               for idx, r in enumerate(ratios)}\n",
    "    with tqdm(total=len(futures), desc=\"WL slices\") as pbar:\n",
    "        for fut in as_completed(futures):\n",
    "            idx = futures[fut]\n",
    "            ratio_ret, Cv_slice = fut.result()\n",
    "            Cv_mat[idx, :] = Cv_slice\n",
    "            pbar.update()\n",
    "\n"
   ]
  },
  {
   "cell_type": "code",
   "execution_count": null,
   "id": "8d156917",
   "metadata": {},
   "outputs": [],
   "source": [
    "wl.plot_cv_surface(ratios, temperatures, Cv_mat, mode=\"surface\")  # or \"pcolormesh\""
   ]
  }
 ],
 "metadata": {
  "kernelspec": {
   "display_name": "tc312",
   "language": "python",
   "name": "python3"
  },
  "language_info": {
   "codemirror_mode": {
    "name": "ipython",
    "version": 3
   },
   "file_extension": ".py",
   "mimetype": "text/x-python",
   "name": "python",
   "nbconvert_exporter": "python",
   "pygments_lexer": "ipython3",
   "version": "3.12.11"
  }
 },
 "nbformat": 4,
 "nbformat_minor": 5
}
